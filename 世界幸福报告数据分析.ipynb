{
 "cells": [
  {
   "cell_type": "markdown",
   "metadata": {},
   "source": [
    "# 世界幸福报告数据分析"
   ]
  },
  {
   "cell_type": "markdown",
   "metadata": {},
   "source": [
    "## 项目背景"
   ]
  },
  {
   "cell_type": "markdown",
   "metadata": {},
   "source": [
    "《世界幸福报告》是对全球幸福状况的一次具有里程碑意义的调查。2012年发表了第一份报告，2013年发表了第二份报告，2015年发表了第三份报告，2016年发表了第四份报告。3月20日，联合国在庆祝国际幸福日的活动上发布了《2017年世界幸福指数》，该指数对155个国家的幸福水平进行了排名。随着各国政府、组织和民间社会越来越多地使用幸福指数作为决策依据，该报告继续获得全球认可。经济学、心理学、调查分析、国家统计、健康、公共政策等领域的领先专家描述了如何有效地利用幸福的测量来评估国家的进步。这些报告回顾了当今世界的幸福状况，并展示了幸福的新科学如何解释个人和国家的幸福差异。"
   ]
  },
  {
   "cell_type": "markdown",
   "metadata": {},
   "source": [
    "幸福指数和排名采用的是盖洛普世界民意测验的数据。分数是根据民意测验中主要的生活评价问题的答案得出的。这个问题被称为坎特里尔阶梯(Cantril ladder)，要求受访者想出一个阶梯，对他们来说最好的生活是10，最坏的生活是0，然后按照这个标准给自己目前的生活打分。这些得分来自于2013-2016年具有全国代表性的样本，并使用盖洛普加权使估算具有代表性。幸福得分后的列估计的程度每六个因素——经济生产、社会支持,预期寿命,自由,没有腐败,和慷慨,有助于使生活在每个国家的评价高于他们在反乌托邦,一个假设的值等于世界最低的国家国家平均每六个因素。它们对每个国家报告的总分没有影响，但它们确实解释了为什么有些国家排名高于其他国家。"
   ]
  },
  {
   "cell_type": "markdown",
   "metadata": {},
   "source": [
    "在这个项目中，我们将讨论哪个国家在总体幸福指数上排名最高，以及影响幸福的六个因素中的每一个?2015年到2016年以及2017年、2018年和2019年的国家排名或分数有什么变化?有没有哪个国家的幸福指数大幅上升或下降?"
   ]
  },
  {
   "cell_type": "markdown",
   "metadata": {},
   "source": [
    "## 数据理解"
   ]
  },
  {
   "cell_type": "markdown",
   "metadata": {},
   "source": [
    "关键字段含义解释：\n",
    "\n",
    "1. rank：幸福指数排名\n",
    "2. region：国家\n",
    "3. happiness：幸福指数得分\n",
    "4. gdp_per_capita：GDP（人均国内生产总值）\n",
    "5. healthy_life_expectancy：健康预期寿命\n",
    "6. freedom_to_life_choise：自由权\n",
    "7. generosity：慷慨程度\n",
    "8. year：年份\n",
    "9. corruption_perceptions：清廉指数\n",
    "10. social_support：社会支持（客观上物质上的援助和直接服务；主观上指个体感到在社会中被尊重、被支持和被理解的情绪体验和满意程度。）"
   ]
  },
  {
   "cell_type": "markdown",
   "metadata": {},
   "source": [
    "## 数据导入和数据整理"
   ]
  },
  {
   "cell_type": "markdown",
   "metadata": {},
   "source": [
    "首先导入所需包。"
   ]
  },
  {
   "cell_type": "code",
   "execution_count": 1,
   "metadata": {},
   "outputs": [
    {
     "data": {
      "text/html": [
       "        <script type=\"text/javascript\">\n",
       "        window.PlotlyConfig = {MathJaxConfig: 'local'};\n",
       "        if (window.MathJax) {MathJax.Hub.Config({SVG: {font: \"STIX-Web\"}});}\n",
       "        if (typeof require !== 'undefined') {\n",
       "        require.undef(\"plotly\");\n",
       "        requirejs.config({\n",
       "            paths: {\n",
       "                'plotly': ['https://cdn.plot.ly/plotly-latest.min']\n",
       "            }\n",
       "        });\n",
       "        require(['plotly'], function(Plotly) {\n",
       "            window._Plotly = Plotly;\n",
       "        });\n",
       "        }\n",
       "        </script>\n",
       "        "
      ]
     },
     "metadata": {},
     "output_type": "display_data"
    }
   ],
   "source": [
    "# 数据整理 \n",
    "import numpy as np \n",
    "import pandas as pd \n",
    "\n",
    "# 可视化\n",
    "import matplotlib.pyplot as plt \n",
    "import seaborn as sns \n",
    "import plotly as py \n",
    "import plotly.graph_objs as go \n",
    "import plotly.express as px \n",
    "from plotly.offline import init_notebook_mode, iplot, plot \n",
    "\n",
    "init_notebook_mode(connected=True)\n",
    "plt.style.use('seaborn') "
   ]
  },
  {
   "cell_type": "code",
   "execution_count": 2,
   "metadata": {},
   "outputs": [
    {
     "data": {
      "text/html": [
       "<div>\n",
       "<style scoped>\n",
       "    .dataframe tbody tr th:only-of-type {\n",
       "        vertical-align: middle;\n",
       "    }\n",
       "\n",
       "    .dataframe tbody tr th {\n",
       "        vertical-align: top;\n",
       "    }\n",
       "\n",
       "    .dataframe thead th {\n",
       "        text-align: right;\n",
       "    }\n",
       "</style>\n",
       "<table border=\"1\" class=\"dataframe\">\n",
       "  <thead>\n",
       "    <tr style=\"text-align: right;\">\n",
       "      <th></th>\n",
       "      <th>region</th>\n",
       "      <th>rank</th>\n",
       "      <th>happiness</th>\n",
       "      <th>gdp_per_capita</th>\n",
       "      <th>healthy_life_expectancy</th>\n",
       "      <th>freedom_to_life_choise</th>\n",
       "      <th>corruption_perceptions</th>\n",
       "      <th>generosity</th>\n",
       "      <th>year</th>\n",
       "      <th>social_support</th>\n",
       "    </tr>\n",
       "  </thead>\n",
       "  <tbody>\n",
       "    <tr>\n",
       "      <th>0</th>\n",
       "      <td>Switzerland</td>\n",
       "      <td>1</td>\n",
       "      <td>7.587</td>\n",
       "      <td>1.39651</td>\n",
       "      <td>0.94143</td>\n",
       "      <td>0.66557</td>\n",
       "      <td>0.41978</td>\n",
       "      <td>0.29678</td>\n",
       "      <td>2015</td>\n",
       "      <td>NaN</td>\n",
       "    </tr>\n",
       "    <tr>\n",
       "      <th>1</th>\n",
       "      <td>Iceland</td>\n",
       "      <td>2</td>\n",
       "      <td>7.561</td>\n",
       "      <td>1.30232</td>\n",
       "      <td>0.94784</td>\n",
       "      <td>0.62877</td>\n",
       "      <td>0.14145</td>\n",
       "      <td>0.43630</td>\n",
       "      <td>2015</td>\n",
       "      <td>NaN</td>\n",
       "    </tr>\n",
       "    <tr>\n",
       "      <th>2</th>\n",
       "      <td>Denmark</td>\n",
       "      <td>3</td>\n",
       "      <td>7.527</td>\n",
       "      <td>1.32548</td>\n",
       "      <td>0.87464</td>\n",
       "      <td>0.64938</td>\n",
       "      <td>0.48357</td>\n",
       "      <td>0.34139</td>\n",
       "      <td>2015</td>\n",
       "      <td>NaN</td>\n",
       "    </tr>\n",
       "    <tr>\n",
       "      <th>3</th>\n",
       "      <td>Norway</td>\n",
       "      <td>4</td>\n",
       "      <td>7.522</td>\n",
       "      <td>1.45900</td>\n",
       "      <td>0.88521</td>\n",
       "      <td>0.66973</td>\n",
       "      <td>0.36503</td>\n",
       "      <td>0.34699</td>\n",
       "      <td>2015</td>\n",
       "      <td>NaN</td>\n",
       "    </tr>\n",
       "    <tr>\n",
       "      <th>4</th>\n",
       "      <td>Canada</td>\n",
       "      <td>5</td>\n",
       "      <td>7.427</td>\n",
       "      <td>1.32629</td>\n",
       "      <td>0.90563</td>\n",
       "      <td>0.63297</td>\n",
       "      <td>0.32957</td>\n",
       "      <td>0.45811</td>\n",
       "      <td>2015</td>\n",
       "      <td>NaN</td>\n",
       "    </tr>\n",
       "  </tbody>\n",
       "</table>\n",
       "</div>"
      ],
      "text/plain": [
       "        region  rank  happiness  gdp_per_capita  healthy_life_expectancy  \\\n",
       "0  Switzerland     1      7.587         1.39651                  0.94143   \n",
       "1      Iceland     2      7.561         1.30232                  0.94784   \n",
       "2      Denmark     3      7.527         1.32548                  0.87464   \n",
       "3       Norway     4      7.522         1.45900                  0.88521   \n",
       "4       Canada     5      7.427         1.32629                  0.90563   \n",
       "\n",
       "   freedom_to_life_choise  corruption_perceptions  generosity  year  \\\n",
       "0                 0.66557                 0.41978     0.29678  2015   \n",
       "1                 0.62877                 0.14145     0.43630  2015   \n",
       "2                 0.64938                 0.48357     0.34139  2015   \n",
       "3                 0.66973                 0.36503     0.34699  2015   \n",
       "4                 0.63297                 0.32957     0.45811  2015   \n",
       "\n",
       "   social_support  \n",
       "0             NaN  \n",
       "1             NaN  \n",
       "2             NaN  \n",
       "3             NaN  \n",
       "4             NaN  "
      ]
     },
     "execution_count": 2,
     "metadata": {},
     "output_type": "execute_result"
    }
   ],
   "source": [
    "# 读入数据\n",
    "df_2015 = pd.read_csv('./deal_data/2015.csv')\n",
    "df_2016 = pd.read_csv('./deal_data/2016.csv')\n",
    "df_2017 = pd.read_csv('./deal_data/2017.csv')\n",
    "df_2018 = pd.read_csv('./deal_data/2018.csv') \n",
    "df_2019 = pd.read_csv('./deal_data/2019.csv')\n",
    "\n",
    "# 新增列-年份\n",
    "df_2015[\"year\"] = str(2015)\n",
    "df_2016[\"year\"] = str(2016)\n",
    "df_2017[\"year\"] = str(2017)\n",
    "df_2018[\"year\"] = str(2018)\n",
    "df_2019[\"year\"] = str(2019)\n",
    "\n",
    "# 合并数据\n",
    "df_all = df_2015.append([df_2016, df_2017, df_2018, df_2019], sort=False)\n",
    "df_all.drop('Unnamed: 0', axis=1, inplace=True)\n",
    "df_all.head()  "
   ]
  },
  {
   "cell_type": "code",
   "execution_count": 3,
   "metadata": {},
   "outputs": [
    {
     "name": "stdout",
     "output_type": "stream",
     "text": [
      "(158, 10) (157, 10) (155, 10) (156, 11) (156, 11)\n"
     ]
    }
   ],
   "source": [
    "print(df_2015.shape, df_2016.shape, df_2017.shape, df_2018.shape, df_2019.shape) "
   ]
  },
  {
   "cell_type": "code",
   "execution_count": 4,
   "metadata": {},
   "outputs": [
    {
     "data": {
      "text/html": [
       "<div>\n",
       "<style scoped>\n",
       "    .dataframe tbody tr th:only-of-type {\n",
       "        vertical-align: middle;\n",
       "    }\n",
       "\n",
       "    .dataframe tbody tr th {\n",
       "        vertical-align: top;\n",
       "    }\n",
       "\n",
       "    .dataframe thead th {\n",
       "        text-align: right;\n",
       "    }\n",
       "</style>\n",
       "<table border=\"1\" class=\"dataframe\">\n",
       "  <thead>\n",
       "    <tr style=\"text-align: right;\">\n",
       "      <th></th>\n",
       "      <th>region</th>\n",
       "      <th>rank</th>\n",
       "      <th>happiness</th>\n",
       "      <th>year</th>\n",
       "    </tr>\n",
       "  </thead>\n",
       "  <tbody>\n",
       "    <tr>\n",
       "      <th>83</th>\n",
       "      <td>China</td>\n",
       "      <td>84</td>\n",
       "      <td>5.140</td>\n",
       "      <td>2015</td>\n",
       "    </tr>\n",
       "    <tr>\n",
       "      <th>82</th>\n",
       "      <td>China</td>\n",
       "      <td>83</td>\n",
       "      <td>5.245</td>\n",
       "      <td>2016</td>\n",
       "    </tr>\n",
       "    <tr>\n",
       "      <th>78</th>\n",
       "      <td>China</td>\n",
       "      <td>79</td>\n",
       "      <td>5.273</td>\n",
       "      <td>2017</td>\n",
       "    </tr>\n",
       "    <tr>\n",
       "      <th>85</th>\n",
       "      <td>China</td>\n",
       "      <td>86</td>\n",
       "      <td>5.246</td>\n",
       "      <td>2018</td>\n",
       "    </tr>\n",
       "    <tr>\n",
       "      <th>92</th>\n",
       "      <td>China</td>\n",
       "      <td>93</td>\n",
       "      <td>5.191</td>\n",
       "      <td>2019</td>\n",
       "    </tr>\n",
       "  </tbody>\n",
       "</table>\n",
       "</div>"
      ],
      "text/plain": [
       "   region  rank  happiness  year\n",
       "83  China    84      5.140  2015\n",
       "82  China    83      5.245  2016\n",
       "78  China    79      5.273  2017\n",
       "85  China    86      5.246  2018\n",
       "92  China    93      5.191  2019"
      ]
     },
     "execution_count": 4,
     "metadata": {},
     "output_type": "execute_result"
    }
   ],
   "source": [
    "df_all[df_all['region'] == 'China'][['region', 'rank', 'happiness', 'year']] "
   ]
  },
  {
   "cell_type": "code",
   "execution_count": 144,
   "metadata": {},
   "outputs": [
    {
     "name": "stdout",
     "output_type": "stream",
     "text": [
      "<class 'pandas.core.frame.DataFrame'>\n",
      "Int64Index: 782 entries, 0 to 155\n",
      "Data columns (total 10 columns):\n",
      "region                     782 non-null object\n",
      "rank                       782 non-null int64\n",
      "happiness                  782 non-null float64\n",
      "gdp_per_capita             782 non-null float64\n",
      "healthy_life_expectancy    782 non-null float64\n",
      "freedom_to_life_choise     782 non-null float64\n",
      "corruption_perceptions     781 non-null float64\n",
      "generosity                 782 non-null float64\n",
      "year                       782 non-null object\n",
      "social_support             312 non-null float64\n",
      "dtypes: float64(7), int64(1), object(2)\n",
      "memory usage: 67.2+ KB\n"
     ]
    }
   ],
   "source": [
    "df_all.info() "
   ]
  },
  {
   "cell_type": "markdown",
   "metadata": {},
   "source": [
    "## 数据可视化"
   ]
  },
  {
   "cell_type": "markdown",
   "metadata": {},
   "source": [
    "### 2019世界幸福地图"
   ]
  },
  {
   "cell_type": "code",
   "execution_count": 145,
   "metadata": {},
   "outputs": [],
   "source": [
    "data = dict(type = 'choropleth', \n",
    "           locations = df_2019['region'],\n",
    "           locationmode = 'country names',\n",
    "           colorscale = 'RdYlGn',\n",
    "           z = df_2019['happiness'], \n",
    "           text = df_2019['region'],\n",
    "           colorbar = {'title':'Happiness'})\n",
    "\n",
    "layout = dict(title = 'Geographical Visualization of Happiness Score in 2019', \n",
    "              geo = dict(showframe = True, projection = {'type': 'azimuthal equal area'}))\n",
    "\n",
    "choromap3 = go.Figure(data = [data], layout=layout)\n",
    "plot(choromap3, filename='./html/世界幸福地图.html')"
   ]
  },
  {
   "cell_type": "markdown",
   "metadata": {},
   "source": [
    "整体来看，北欧的国家幸福指数较高，如冰岛、丹麦、挪威、芬兰；东非和西非的国家幸福指数较低，如多哥、布隆迪、卢旺达和坦桑尼亚。"
   ]
  },
  {
   "cell_type": "markdown",
   "metadata": {},
   "source": [
    "### 2019世界幸福国家排行Top10"
   ]
  },
  {
   "cell_type": "code",
   "execution_count": 58,
   "metadata": {},
   "outputs": [],
   "source": [
    "# 合并数据\n",
    "rank_top10 = df_2019.head(10)[['rank', 'region', 'happiness']]\n",
    "last_top10 = df_2019.tail(10)[['rank', 'region', 'happiness']]\n",
    "rank_concat = pd.concat([rank_top10, last_top10])\n",
    "\n",
    "# 条形图\n",
    "fig = px.bar(rank_concat, \n",
    "             x=\"region\", \n",
    "             y=\"happiness\", \n",
    "             color=\"region\", \n",
    "             title=\"World's happiest and least happy countries in 2019\")\n",
    "\n",
    "plot(fig, filename='./html/2019世界幸福国家排行Top10和Last10.html')"
   ]
  },
  {
   "cell_type": "markdown",
   "metadata": {},
   "source": [
    "### 幸福指数相关性"
   ]
  },
  {
   "cell_type": "code",
   "execution_count": 9,
   "metadata": {},
   "outputs": [],
   "source": [
    "# 热力图\n",
    "plt.figure(figsize=(25, 20))\n",
    "sns.heatmap(df_all.corr(), cmap='rainbow', linewidths=0.1, annot=True)\n",
    "plt.title('Correlation between numeric variables', fontsize=18)  \n",
    "plt.xticks(fontsize=13) \n",
    "plt.yticks(fontsize=13) \n",
    "plt.show() "
   ]
  },
  {
   "cell_type": "markdown",
   "metadata": {},
   "source": [
    "结论：\n",
    "\n",
    "1. 从影响因素相关性热力图可以看出，在影响幸福得分的因素中，GDP、社会支持、健康预期寿命呈现高度相关，自由权呈现中度相关，国家的廉政水平呈现低度相关，慷慨程度则呈现极低的相关性；\n",
    "\n",
    "2. GDP与健康预期寿命、社会支持之间存在高度相关。说明GDP高的国家，医疗水平和社会福利较为完善，人民的预期寿命也会越高；\n",
    "\n",
    "3. 健康预期寿命与社会支持之间存在中度相关性。"
   ]
  },
  {
   "cell_type": "markdown",
   "metadata": {},
   "source": [
    "以下分别观察各个因素的影响程度。"
   ]
  },
  {
   "cell_type": "markdown",
   "metadata": {},
   "source": [
    "### GDP和幸福得分"
   ]
  },
  {
   "cell_type": "code",
   "execution_count": 10,
   "metadata": {},
   "outputs": [],
   "source": [
    "# 散点图\n",
    "fig = px.scatter(df_all, x='gdp_per_capita', \n",
    "                 y='happiness',\n",
    "                 facet_row='year',\n",
    "                 color='year',\n",
    "                 trendline='ols'\n",
    "                ) \n",
    "fig.update_layout(height=800, title_text='GDP per capita and Happiness Score')\n",
    "plot(fig, filename='./html/GDP和幸福得分.html')"
   ]
  },
  {
   "cell_type": "markdown",
   "metadata": {},
   "source": [
    "人均GDP与幸福得分呈高度线性正相关关系，GDP越高的国家，幸福水平相对越高。"
   ]
  },
  {
   "cell_type": "markdown",
   "metadata": {},
   "source": [
    "### 健康预期寿命和幸福得分"
   ]
  },
  {
   "cell_type": "code",
   "execution_count": 11,
   "metadata": {},
   "outputs": [],
   "source": [
    "# 散点图\n",
    "fig = px.scatter(df_all, x='healthy_life_expectancy', \n",
    "                 y='happiness',\n",
    "                 facet_row='year',\n",
    "                 color='year',\n",
    "                 trendline='ols'\n",
    "                )  \n",
    "fig.update_layout(height=800, title_text='Healthy Life Expecancy and Happiness Score')\n",
    "plot(fig, filename='./html/健康预期寿命和幸福得分.html') "
   ]
  },
  {
   "cell_type": "markdown",
   "metadata": {},
   "source": [
    "健康预期寿命与幸福得分呈高度线性正相关关系，健康预期寿命越高的国家，幸福水平相对越高。"
   ]
  },
  {
   "cell_type": "markdown",
   "metadata": {},
   "source": [
    "### 动态图展示（GDP&happiness）"
   ]
  },
  {
   "cell_type": "code",
   "execution_count": 146,
   "metadata": {},
   "outputs": [],
   "source": [
    "fig = px.scatter(df_all, \n",
    "                 x='gdp_per_capita', \n",
    "                 y='happiness',\n",
    "                 animation_frame='year',\n",
    "                 animation_group='region',\n",
    "                 size='rank',\n",
    "                 color='region',\n",
    "                 hover_name='region',\n",
    "                 trendline='ols'\n",
    "                ) \n",
    "fig.update_layout(title_text='Happiness Rank vs GDP per Capita') \n",
    "plot(fig, filename='./html/GDP和幸福水平动态图展示.html') "
   ]
  },
  {
   "cell_type": "markdown",
   "metadata": {},
   "source": [
    "### 动态图展示（healthy_life_expectancy&happiness）"
   ]
  },
  {
   "cell_type": "code",
   "execution_count": 147,
   "metadata": {},
   "outputs": [],
   "source": [
    "fig = px.scatter(df_all, \n",
    "                 x='healthy_life_expectancy', \n",
    "                 y='happiness',\n",
    "                 animation_frame='year',\n",
    "                 animation_group='region',\n",
    "                 size='rank',\n",
    "                 color='region',\n",
    "                 hover_name='region',\n",
    "                 trendline='ols'\n",
    "                ) \n",
    "fig.update_layout(title_text='Happiness Rank vs healthy_life_expectancy') \n",
    "plot(fig, filename='./html/健康预期寿命和幸福水平动态图展示.html') "
   ]
  },
  {
   "cell_type": "markdown",
   "metadata": {},
   "source": [
    "## 数据建模"
   ]
  },
  {
   "cell_type": "markdown",
   "metadata": {},
   "source": [
    "我们使用线性回归进行建立一个基准模型，首先筛选一下建模变量，并删除空值记录。"
   ]
  },
  {
   "cell_type": "code",
   "execution_count": 125,
   "metadata": {},
   "outputs": [
    {
     "data": {
      "text/html": [
       "<div>\n",
       "<style scoped>\n",
       "    .dataframe tbody tr th:only-of-type {\n",
       "        vertical-align: middle;\n",
       "    }\n",
       "\n",
       "    .dataframe tbody tr th {\n",
       "        vertical-align: top;\n",
       "    }\n",
       "\n",
       "    .dataframe thead th {\n",
       "        text-align: right;\n",
       "    }\n",
       "</style>\n",
       "<table border=\"1\" class=\"dataframe\">\n",
       "  <thead>\n",
       "    <tr style=\"text-align: right;\">\n",
       "      <th></th>\n",
       "      <th>happiness</th>\n",
       "      <th>gdp_per_capita</th>\n",
       "      <th>healthy_life_expectancy</th>\n",
       "      <th>freedom_to_life_choise</th>\n",
       "      <th>corruption_perceptions</th>\n",
       "      <th>generosity</th>\n",
       "    </tr>\n",
       "  </thead>\n",
       "  <tbody>\n",
       "    <tr>\n",
       "      <th>0</th>\n",
       "      <td>7.587</td>\n",
       "      <td>1.39651</td>\n",
       "      <td>0.94143</td>\n",
       "      <td>0.66557</td>\n",
       "      <td>0.41978</td>\n",
       "      <td>0.29678</td>\n",
       "    </tr>\n",
       "    <tr>\n",
       "      <th>1</th>\n",
       "      <td>7.561</td>\n",
       "      <td>1.30232</td>\n",
       "      <td>0.94784</td>\n",
       "      <td>0.62877</td>\n",
       "      <td>0.14145</td>\n",
       "      <td>0.43630</td>\n",
       "    </tr>\n",
       "    <tr>\n",
       "      <th>2</th>\n",
       "      <td>7.527</td>\n",
       "      <td>1.32548</td>\n",
       "      <td>0.87464</td>\n",
       "      <td>0.64938</td>\n",
       "      <td>0.48357</td>\n",
       "      <td>0.34139</td>\n",
       "    </tr>\n",
       "    <tr>\n",
       "      <th>3</th>\n",
       "      <td>7.522</td>\n",
       "      <td>1.45900</td>\n",
       "      <td>0.88521</td>\n",
       "      <td>0.66973</td>\n",
       "      <td>0.36503</td>\n",
       "      <td>0.34699</td>\n",
       "    </tr>\n",
       "    <tr>\n",
       "      <th>4</th>\n",
       "      <td>7.427</td>\n",
       "      <td>1.32629</td>\n",
       "      <td>0.90563</td>\n",
       "      <td>0.63297</td>\n",
       "      <td>0.32957</td>\n",
       "      <td>0.45811</td>\n",
       "    </tr>\n",
       "  </tbody>\n",
       "</table>\n",
       "</div>"
      ],
      "text/plain": [
       "   happiness  gdp_per_capita  healthy_life_expectancy  freedom_to_life_choise  \\\n",
       "0      7.587         1.39651                  0.94143                 0.66557   \n",
       "1      7.561         1.30232                  0.94784                 0.62877   \n",
       "2      7.527         1.32548                  0.87464                 0.64938   \n",
       "3      7.522         1.45900                  0.88521                 0.66973   \n",
       "4      7.427         1.32629                  0.90563                 0.63297   \n",
       "\n",
       "   corruption_perceptions  generosity  \n",
       "0                 0.41978     0.29678  \n",
       "1                 0.14145     0.43630  \n",
       "2                 0.48357     0.34139  \n",
       "3                 0.36503     0.34699  \n",
       "4                 0.32957     0.45811  "
      ]
     },
     "execution_count": 125,
     "metadata": {},
     "output_type": "execute_result"
    }
   ],
   "source": [
    "sel_cols = ['happiness', 'gdp_per_capita', 'healthy_life_expectancy', \n",
    "            'freedom_to_life_choise', 'corruption_perceptions', 'generosity']\n",
    "# 重置索引\n",
    "df_model.index = range(df_model.shape[0])\n",
    "df_model = df_all[sel_cols] \n",
    "# 删除空值\n",
    "df_model = df_model.dropna() \n",
    "df_model.head() "
   ]
  },
  {
   "cell_type": "code",
   "execution_count": 127,
   "metadata": {},
   "outputs": [
    {
     "data": {
      "text/html": [
       "<table class=\"simpletable\">\n",
       "<caption>OLS Regression Results</caption>\n",
       "<tr>\n",
       "  <th>Dep. Variable:</th>        <td>happiness</td>    <th>  R-squared:         </th> <td>   0.744</td> \n",
       "</tr>\n",
       "<tr>\n",
       "  <th>Model:</th>                   <td>OLS</td>       <th>  Adj. R-squared:    </th> <td>   0.743</td> \n",
       "</tr>\n",
       "<tr>\n",
       "  <th>Method:</th>             <td>Least Squares</td>  <th>  F-statistic:       </th> <td>   451.1</td> \n",
       "</tr>\n",
       "<tr>\n",
       "  <th>Date:</th>             <td>Fri, 18 Sep 2020</td> <th>  Prob (F-statistic):</th> <td>1.19e-226</td>\n",
       "</tr>\n",
       "<tr>\n",
       "  <th>Time:</th>                 <td>10:57:18</td>     <th>  Log-Likelihood:    </th> <td> -668.60</td> \n",
       "</tr>\n",
       "<tr>\n",
       "  <th>No. Observations:</th>      <td>   781</td>      <th>  AIC:               </th> <td>   1349.</td> \n",
       "</tr>\n",
       "<tr>\n",
       "  <th>Df Residuals:</th>          <td>   775</td>      <th>  BIC:               </th> <td>   1377.</td> \n",
       "</tr>\n",
       "<tr>\n",
       "  <th>Df Model:</th>              <td>     5</td>      <th>                     </th>     <td> </td>    \n",
       "</tr>\n",
       "<tr>\n",
       "  <th>Covariance Type:</th>      <td>nonrobust</td>    <th>                     </th>     <td> </td>    \n",
       "</tr>\n",
       "</table>\n",
       "<table class=\"simpletable\">\n",
       "<tr>\n",
       "             <td></td>                <th>coef</th>     <th>std err</th>      <th>t</th>      <th>P>|t|</th>  <th>[0.025</th>    <th>0.975]</th>  \n",
       "</tr>\n",
       "<tr>\n",
       "  <th>Intercept</th>               <td>    2.4713</td> <td>    0.074</td> <td>   33.589</td> <td> 0.000</td> <td>    2.327</td> <td>    2.616</td>\n",
       "</tr>\n",
       "<tr>\n",
       "  <th>gdp_per_capita</th>          <td>    1.3197</td> <td>    0.084</td> <td>   15.683</td> <td> 0.000</td> <td>    1.154</td> <td>    1.485</td>\n",
       "</tr>\n",
       "<tr>\n",
       "  <th>healthy_life_expectancy</th> <td>    1.2104</td> <td>    0.135</td> <td>    8.979</td> <td> 0.000</td> <td>    0.946</td> <td>    1.475</td>\n",
       "</tr>\n",
       "<tr>\n",
       "  <th>freedom_to_life_choise</th>  <td>    1.9205</td> <td>    0.160</td> <td>   12.001</td> <td> 0.000</td> <td>    1.606</td> <td>    2.235</td>\n",
       "</tr>\n",
       "<tr>\n",
       "  <th>corruption_perceptions</th>  <td>    0.5378</td> <td>    0.229</td> <td>    2.353</td> <td> 0.019</td> <td>    0.089</td> <td>    0.986</td>\n",
       "</tr>\n",
       "<tr>\n",
       "  <th>generosity</th>              <td>    0.4599</td> <td>    0.182</td> <td>    2.529</td> <td> 0.012</td> <td>    0.103</td> <td>    0.817</td>\n",
       "</tr>\n",
       "</table>\n",
       "<table class=\"simpletable\">\n",
       "<tr>\n",
       "  <th>Omnibus:</th>       <td>23.357</td> <th>  Durbin-Watson:     </th> <td>   1.522</td>\n",
       "</tr>\n",
       "<tr>\n",
       "  <th>Prob(Omnibus):</th> <td> 0.000</td> <th>  Jarque-Bera (JB):  </th> <td>  24.843</td>\n",
       "</tr>\n",
       "<tr>\n",
       "  <th>Skew:</th>          <td>-0.406</td> <th>  Prob(JB):          </th> <td>4.03e-06</td>\n",
       "</tr>\n",
       "<tr>\n",
       "  <th>Kurtosis:</th>      <td> 3.321</td> <th>  Cond. No.          </th> <td>    19.2</td>\n",
       "</tr>\n",
       "</table><br/><br/>Warnings:<br/>[1] Standard Errors assume that the covariance matrix of the errors is correctly specified."
      ],
      "text/plain": [
       "<class 'statsmodels.iolib.summary.Summary'>\n",
       "\"\"\"\n",
       "                            OLS Regression Results                            \n",
       "==============================================================================\n",
       "Dep. Variable:              happiness   R-squared:                       0.744\n",
       "Model:                            OLS   Adj. R-squared:                  0.743\n",
       "Method:                 Least Squares   F-statistic:                     451.1\n",
       "Date:                Fri, 18 Sep 2020   Prob (F-statistic):          1.19e-226\n",
       "Time:                        10:57:18   Log-Likelihood:                -668.60\n",
       "No. Observations:                 781   AIC:                             1349.\n",
       "Df Residuals:                     775   BIC:                             1377.\n",
       "Df Model:                           5                                         \n",
       "Covariance Type:            nonrobust                                         \n",
       "===========================================================================================\n",
       "                              coef    std err          t      P>|t|      [0.025      0.975]\n",
       "-------------------------------------------------------------------------------------------\n",
       "Intercept                   2.4713      0.074     33.589      0.000       2.327       2.616\n",
       "gdp_per_capita              1.3197      0.084     15.683      0.000       1.154       1.485\n",
       "healthy_life_expectancy     1.2104      0.135      8.979      0.000       0.946       1.475\n",
       "freedom_to_life_choise      1.9205      0.160     12.001      0.000       1.606       2.235\n",
       "corruption_perceptions      0.5378      0.229      2.353      0.019       0.089       0.986\n",
       "generosity                  0.4599      0.182      2.529      0.012       0.103       0.817\n",
       "==============================================================================\n",
       "Omnibus:                       23.357   Durbin-Watson:                   1.522\n",
       "Prob(Omnibus):                  0.000   Jarque-Bera (JB):               24.843\n",
       "Skew:                          -0.406   Prob(JB):                     4.03e-06\n",
       "Kurtosis:                       3.321   Cond. No.                         19.2\n",
       "==============================================================================\n",
       "\n",
       "Warnings:\n",
       "[1] Standard Errors assume that the covariance matrix of the errors is correctly specified.\n",
       "\"\"\""
      ]
     },
     "execution_count": 127,
     "metadata": {},
     "output_type": "execute_result"
    }
   ],
   "source": [
    "from statsmodels.formula.api import ols\n",
    "\n",
    "# 建立多元线性回归模型\n",
    "lm_m = ols(formula='happiness ~ gdp_per_capita + healthy_life_expectancy + freedom_to_life_choise + corruption_perceptions + generosity', \n",
    "           data=df_model).fit()\n",
    "lm_m.summary()  "
   ]
  },
  {
   "cell_type": "markdown",
   "metadata": {},
   "source": [
    "模型的R-squared=0.744，拟合效果尚可，根据模型的参数可知：\n",
    "\n",
    "1. 变量重要性排序为：gdp_per_capita、freedom_to_life_choise、healthy_life_expectancy、corruption_perceptions、generosity\t\n",
    "2. 控制其他变量不变的情况下，GDP指数每增加一个单位，幸福指数增加1.32个单位，健康预期寿命指数每增加一个单位，幸福指数增加1.21个单位。"
   ]
  },
  {
   "cell_type": "markdown",
   "metadata": {},
   "source": [
    "比较预测值和真实值的分布："
   ]
  },
  {
   "cell_type": "code",
   "execution_count": 148,
   "metadata": {},
   "outputs": [],
   "source": [
    "df_pred = pd.concat([df_model['happiness'], y_pred], axis=1) \n",
    "df_pred.columns = ['y_true', 'y_pred']\n",
    "\n",
    "# 散点图\n",
    "fig = px.scatter(df_pred, x='y_true', y='y_pred', trendline='ols')\n",
    "fig.update_layout(title='Resid of OLS Regression')\n",
    "plot(fig, filename='./html/预测值和真实值分布图.html') "
   ]
  },
  {
   "cell_type": "markdown",
   "metadata": {},
   "source": [
    "以下为模型残差分布图。"
   ]
  },
  {
   "cell_type": "code",
   "execution_count": 149,
   "metadata": {},
   "outputs": [],
   "source": [
    "fig = px.histogram(x=lm_m.resid) \n",
    "fig.update_layout(title='Resid of OLS Regression')\n",
    "plot(fig, filename='./html/多元线性回归残差分布图.html')"
   ]
  }
 ],
 "metadata": {
  "kernelspec": {
   "display_name": "Python 3",
   "language": "python",
   "name": "python3"
  },
  "language_info": {
   "codemirror_mode": {
    "name": "ipython",
    "version": 3
   },
   "file_extension": ".py",
   "mimetype": "text/x-python",
   "name": "python",
   "nbconvert_exporter": "python",
   "pygments_lexer": "ipython3",
   "version": "3.7.3"
  },
  "toc": {
   "base_numbering": 1,
   "nav_menu": {},
   "number_sections": true,
   "sideBar": true,
   "skip_h1_title": false,
   "title_cell": "Table of Contents",
   "title_sidebar": "Contents",
   "toc_cell": false,
   "toc_position": {
    "height": "calc(100% - 180px)",
    "left": "10px",
    "top": "150px",
    "width": "204px"
   },
   "toc_section_display": true,
   "toc_window_display": false
  },
  "varInspector": {
   "cols": {
    "lenName": 16,
    "lenType": 16,
    "lenVar": 40
   },
   "kernels_config": {
    "python": {
     "delete_cmd_postfix": "",
     "delete_cmd_prefix": "del ",
     "library": "var_list.py",
     "varRefreshCmd": "print(var_dic_list())"
    },
    "r": {
     "delete_cmd_postfix": ") ",
     "delete_cmd_prefix": "rm(",
     "library": "var_list.r",
     "varRefreshCmd": "cat(var_dic_list()) "
    }
   },
   "types_to_exclude": [
    "module",
    "function",
    "builtin_function_or_method",
    "instance",
    "_Feature"
   ],
   "window_display": false
  }
 },
 "nbformat": 4,
 "nbformat_minor": 2
}
