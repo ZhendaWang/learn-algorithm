{
 "cells": [
  {
   "cell_type": "markdown",
   "metadata": {},
   "source": [
    "# 英雄联盟比赛胜负预测"
   ]
  },
  {
   "cell_type": "markdown",
   "metadata": {},
   "source": [
    "## 项目概述"
   ]
  },
  {
   "cell_type": "markdown",
   "metadata": {},
   "source": [
    "英雄联盟（LoL）是美国游戏开发商Riot Games（2011年由腾讯收购）开发和发行的一款多人在线战斗竞技游戏。\n",
    "\n",
    "在游戏中，玩家扮演一个\"召唤师\"角色，每个召唤师控制一个拥有独特技能的\"英雄\"，并与一组其他玩家或电脑控制的英雄战斗。游戏的目标是摧毁对方的防御塔和基地。\n",
    "\n",
    "召唤者峡谷是英雄联盟中最受欢迎的地图，在这种地图类型中，两队五名玩家竞争摧毁一个被称为基地的敌人建筑，这个建筑由敌人的队伍和一些防御塔护卫。每个队伍都希望保卫自己的建筑，同时摧毁对方的建筑。这些主要包括:\n",
    "\n",
    "1. Towers（防御塔）：每支队伍总共有11座防御塔\n",
    "2. Inhibitor（水晶）：每条道有一个水晶\n",
    "3. Elemental Drakes/Elder Dragon（大龙/远古龙）\n",
    "4. Rift Herald（峡谷先锋）\n",
    "5. Baron Nasho（纳什男爵）\n",
    "6. Nexus（基地）\n",
    "\n",
    "英雄联盟最具争议的元素之一，就是其严重的滚雪球效应。许多职业选手接受赛后采访时都提到其输赢都因为“滚雪球”，我们研究各方面各指标的数据，来看这些因素的发展是否真的影响了比赛的成败。在这个项目中，我们分析了5万多场英雄联盟的排名比赛，并尝试使用决策树算法来根据已有输入属性预测比赛胜负。"
   ]
  },
  {
   "cell_type": "markdown",
   "metadata": {},
   "source": [
    "## 数据集概述"
   ]
  },
  {
   "cell_type": "markdown",
   "metadata": {},
   "source": [
    "这是一个收集了超过50000个从游戏英雄联盟排位游戏，字段主要包含以下数据：\n",
    "\n",
    "- Game ID：游戏ID\n",
    "- Creation Time：创建时间\n",
    "- Game Duration (in seconds)：游戏持续时间（秒）\n",
    "- Season ID：赛季ID\n",
    "- Winner (1=team1, 2=team2)：获胜队伍\n",
    "- First Baron, dragon, tower, blood, inhibitor and Rift Herald (1 = team1, 2 = team2, 0 = none)：第一条纳什男爵，大龙，塔，一血，水晶，峡谷先锋\n",
    "- Champions and summoner spells for each team (Stored as Riot's champion and summoner spell IDs)：每只队伍选择的英雄和召唤术\n",
    "- The number of tower, inhibitor, Baron, dragon and Rift Herald kills each team has：塔，水晶，男爵，大龙和峡谷先锋击杀数\n",
    "- The 5 bans of each team (Again, champion IDs are used)：每个队伍的禁用英雄"
   ]
  },
  {
   "cell_type": "markdown",
   "metadata": {},
   "source": [
    "## 数据读入和预处理"
   ]
  },
  {
   "cell_type": "code",
   "execution_count": 25,
   "metadata": {},
   "outputs": [],
   "source": [
    "# 数据整理\n",
    "import numpy as np \n",
    "import pandas as pd \n",
    "\n",
    "# 可视化\n",
    "import matplotlib.pyplot as plt \n",
    "import seaborn as sns \n",
    "import plotly as py \n",
    "import plotly.graph_objs as go \n",
    "\n",
    "# 建模\n",
    "from sklearn.tree import DecisionTreeClassifier\n",
    "from sklearn.model_selection import train_test_split, GridSearchCV\n",
    "from sklearn.metrics import confusion_matrix, classification_report "
   ]
  },
  {
   "cell_type": "code",
   "execution_count": 24,
   "metadata": {},
   "outputs": [],
   "source": [
    "# 设置\n",
    "pd.set_option('display.max_columns', None)  \n",
    "pd.set_option('display.max_rows', 100)   \n",
    "\n",
    "plt.style.use('seaborn') "
   ]
  },
  {
   "cell_type": "code",
   "execution_count": 58,
   "metadata": {},
   "outputs": [
    {
     "data": {
      "text/html": [
       "<div>\n",
       "<style scoped>\n",
       "    .dataframe tbody tr th:only-of-type {\n",
       "        vertical-align: middle;\n",
       "    }\n",
       "\n",
       "    .dataframe tbody tr th {\n",
       "        vertical-align: top;\n",
       "    }\n",
       "\n",
       "    .dataframe thead th {\n",
       "        text-align: right;\n",
       "    }\n",
       "</style>\n",
       "<table border=\"1\" class=\"dataframe\">\n",
       "  <thead>\n",
       "    <tr style=\"text-align: right;\">\n",
       "      <th></th>\n",
       "      <th>gameId</th>\n",
       "      <th>creationTime</th>\n",
       "      <th>gameDuration</th>\n",
       "      <th>seasonId</th>\n",
       "      <th>winner</th>\n",
       "      <th>firstBlood</th>\n",
       "      <th>firstTower</th>\n",
       "      <th>firstInhibitor</th>\n",
       "      <th>firstBaron</th>\n",
       "      <th>firstDragon</th>\n",
       "      <th>firstRiftHerald</th>\n",
       "      <th>t1_champ1id</th>\n",
       "      <th>t1_champ1_sum1</th>\n",
       "      <th>t1_champ1_sum2</th>\n",
       "      <th>t1_champ2id</th>\n",
       "      <th>t1_champ2_sum1</th>\n",
       "      <th>t1_champ2_sum2</th>\n",
       "      <th>t1_champ3id</th>\n",
       "      <th>t1_champ3_sum1</th>\n",
       "      <th>t1_champ3_sum2</th>\n",
       "      <th>t1_champ4id</th>\n",
       "      <th>t1_champ4_sum1</th>\n",
       "      <th>t1_champ4_sum2</th>\n",
       "      <th>t1_champ5id</th>\n",
       "      <th>t1_champ5_sum1</th>\n",
       "      <th>t1_champ5_sum2</th>\n",
       "      <th>t1_towerKills</th>\n",
       "      <th>t1_inhibitorKills</th>\n",
       "      <th>t1_baronKills</th>\n",
       "      <th>t1_dragonKills</th>\n",
       "      <th>t1_riftHeraldKills</th>\n",
       "      <th>t1_ban1</th>\n",
       "      <th>t1_ban2</th>\n",
       "      <th>t1_ban3</th>\n",
       "      <th>t1_ban4</th>\n",
       "      <th>t1_ban5</th>\n",
       "      <th>t2_champ1id</th>\n",
       "      <th>t2_champ1_sum1</th>\n",
       "      <th>t2_champ1_sum2</th>\n",
       "      <th>t2_champ2id</th>\n",
       "      <th>t2_champ2_sum1</th>\n",
       "      <th>t2_champ2_sum2</th>\n",
       "      <th>t2_champ3id</th>\n",
       "      <th>t2_champ3_sum1</th>\n",
       "      <th>t2_champ3_sum2</th>\n",
       "      <th>t2_champ4id</th>\n",
       "      <th>t2_champ4_sum1</th>\n",
       "      <th>t2_champ4_sum2</th>\n",
       "      <th>t2_champ5id</th>\n",
       "      <th>t2_champ5_sum1</th>\n",
       "      <th>t2_champ5_sum2</th>\n",
       "      <th>t2_towerKills</th>\n",
       "      <th>t2_inhibitorKills</th>\n",
       "      <th>t2_baronKills</th>\n",
       "      <th>t2_dragonKills</th>\n",
       "      <th>t2_riftHeraldKills</th>\n",
       "      <th>t2_ban1</th>\n",
       "      <th>t2_ban2</th>\n",
       "      <th>t2_ban3</th>\n",
       "      <th>t2_ban4</th>\n",
       "      <th>t2_ban5</th>\n",
       "    </tr>\n",
       "  </thead>\n",
       "  <tbody>\n",
       "    <tr>\n",
       "      <th>0</th>\n",
       "      <td>3326086514</td>\n",
       "      <td>1504279457970</td>\n",
       "      <td>1949</td>\n",
       "      <td>9</td>\n",
       "      <td>1</td>\n",
       "      <td>2</td>\n",
       "      <td>1</td>\n",
       "      <td>1</td>\n",
       "      <td>1</td>\n",
       "      <td>1</td>\n",
       "      <td>2</td>\n",
       "      <td>8</td>\n",
       "      <td>12</td>\n",
       "      <td>4</td>\n",
       "      <td>432</td>\n",
       "      <td>3</td>\n",
       "      <td>4</td>\n",
       "      <td>96</td>\n",
       "      <td>4</td>\n",
       "      <td>7</td>\n",
       "      <td>11</td>\n",
       "      <td>11</td>\n",
       "      <td>6</td>\n",
       "      <td>112</td>\n",
       "      <td>4</td>\n",
       "      <td>14</td>\n",
       "      <td>11</td>\n",
       "      <td>1</td>\n",
       "      <td>2</td>\n",
       "      <td>3</td>\n",
       "      <td>0</td>\n",
       "      <td>92</td>\n",
       "      <td>40</td>\n",
       "      <td>69</td>\n",
       "      <td>119</td>\n",
       "      <td>141</td>\n",
       "      <td>104</td>\n",
       "      <td>11</td>\n",
       "      <td>4</td>\n",
       "      <td>498</td>\n",
       "      <td>4</td>\n",
       "      <td>7</td>\n",
       "      <td>122</td>\n",
       "      <td>6</td>\n",
       "      <td>4</td>\n",
       "      <td>238</td>\n",
       "      <td>14</td>\n",
       "      <td>4</td>\n",
       "      <td>412</td>\n",
       "      <td>4</td>\n",
       "      <td>3</td>\n",
       "      <td>5</td>\n",
       "      <td>0</td>\n",
       "      <td>0</td>\n",
       "      <td>1</td>\n",
       "      <td>1</td>\n",
       "      <td>114</td>\n",
       "      <td>67</td>\n",
       "      <td>43</td>\n",
       "      <td>16</td>\n",
       "      <td>51</td>\n",
       "    </tr>\n",
       "    <tr>\n",
       "      <th>1</th>\n",
       "      <td>3229566029</td>\n",
       "      <td>1497848803862</td>\n",
       "      <td>1851</td>\n",
       "      <td>9</td>\n",
       "      <td>1</td>\n",
       "      <td>1</td>\n",
       "      <td>1</td>\n",
       "      <td>1</td>\n",
       "      <td>0</td>\n",
       "      <td>1</td>\n",
       "      <td>1</td>\n",
       "      <td>119</td>\n",
       "      <td>7</td>\n",
       "      <td>4</td>\n",
       "      <td>39</td>\n",
       "      <td>12</td>\n",
       "      <td>4</td>\n",
       "      <td>76</td>\n",
       "      <td>4</td>\n",
       "      <td>3</td>\n",
       "      <td>10</td>\n",
       "      <td>4</td>\n",
       "      <td>14</td>\n",
       "      <td>35</td>\n",
       "      <td>4</td>\n",
       "      <td>11</td>\n",
       "      <td>10</td>\n",
       "      <td>4</td>\n",
       "      <td>0</td>\n",
       "      <td>2</td>\n",
       "      <td>1</td>\n",
       "      <td>51</td>\n",
       "      <td>122</td>\n",
       "      <td>17</td>\n",
       "      <td>498</td>\n",
       "      <td>19</td>\n",
       "      <td>54</td>\n",
       "      <td>4</td>\n",
       "      <td>12</td>\n",
       "      <td>25</td>\n",
       "      <td>4</td>\n",
       "      <td>14</td>\n",
       "      <td>120</td>\n",
       "      <td>11</td>\n",
       "      <td>4</td>\n",
       "      <td>157</td>\n",
       "      <td>4</td>\n",
       "      <td>14</td>\n",
       "      <td>92</td>\n",
       "      <td>4</td>\n",
       "      <td>7</td>\n",
       "      <td>2</td>\n",
       "      <td>0</td>\n",
       "      <td>0</td>\n",
       "      <td>0</td>\n",
       "      <td>0</td>\n",
       "      <td>11</td>\n",
       "      <td>67</td>\n",
       "      <td>238</td>\n",
       "      <td>51</td>\n",
       "      <td>420</td>\n",
       "    </tr>\n",
       "    <tr>\n",
       "      <th>2</th>\n",
       "      <td>3327363504</td>\n",
       "      <td>1504360103310</td>\n",
       "      <td>1493</td>\n",
       "      <td>9</td>\n",
       "      <td>1</td>\n",
       "      <td>2</td>\n",
       "      <td>1</td>\n",
       "      <td>1</td>\n",
       "      <td>1</td>\n",
       "      <td>2</td>\n",
       "      <td>0</td>\n",
       "      <td>18</td>\n",
       "      <td>4</td>\n",
       "      <td>7</td>\n",
       "      <td>141</td>\n",
       "      <td>11</td>\n",
       "      <td>4</td>\n",
       "      <td>267</td>\n",
       "      <td>3</td>\n",
       "      <td>4</td>\n",
       "      <td>68</td>\n",
       "      <td>4</td>\n",
       "      <td>12</td>\n",
       "      <td>38</td>\n",
       "      <td>12</td>\n",
       "      <td>4</td>\n",
       "      <td>8</td>\n",
       "      <td>1</td>\n",
       "      <td>1</td>\n",
       "      <td>1</td>\n",
       "      <td>0</td>\n",
       "      <td>117</td>\n",
       "      <td>40</td>\n",
       "      <td>29</td>\n",
       "      <td>16</td>\n",
       "      <td>53</td>\n",
       "      <td>69</td>\n",
       "      <td>4</td>\n",
       "      <td>7</td>\n",
       "      <td>412</td>\n",
       "      <td>14</td>\n",
       "      <td>4</td>\n",
       "      <td>126</td>\n",
       "      <td>4</td>\n",
       "      <td>12</td>\n",
       "      <td>24</td>\n",
       "      <td>4</td>\n",
       "      <td>11</td>\n",
       "      <td>22</td>\n",
       "      <td>7</td>\n",
       "      <td>4</td>\n",
       "      <td>2</td>\n",
       "      <td>0</td>\n",
       "      <td>0</td>\n",
       "      <td>1</td>\n",
       "      <td>0</td>\n",
       "      <td>157</td>\n",
       "      <td>238</td>\n",
       "      <td>121</td>\n",
       "      <td>57</td>\n",
       "      <td>28</td>\n",
       "    </tr>\n",
       "    <tr>\n",
       "      <th>3</th>\n",
       "      <td>3326856598</td>\n",
       "      <td>1504348503996</td>\n",
       "      <td>1758</td>\n",
       "      <td>9</td>\n",
       "      <td>1</td>\n",
       "      <td>1</td>\n",
       "      <td>1</td>\n",
       "      <td>1</td>\n",
       "      <td>1</td>\n",
       "      <td>1</td>\n",
       "      <td>0</td>\n",
       "      <td>57</td>\n",
       "      <td>4</td>\n",
       "      <td>12</td>\n",
       "      <td>63</td>\n",
       "      <td>4</td>\n",
       "      <td>14</td>\n",
       "      <td>29</td>\n",
       "      <td>4</td>\n",
       "      <td>7</td>\n",
       "      <td>61</td>\n",
       "      <td>4</td>\n",
       "      <td>1</td>\n",
       "      <td>36</td>\n",
       "      <td>11</td>\n",
       "      <td>4</td>\n",
       "      <td>9</td>\n",
       "      <td>2</td>\n",
       "      <td>1</td>\n",
       "      <td>2</td>\n",
       "      <td>0</td>\n",
       "      <td>238</td>\n",
       "      <td>67</td>\n",
       "      <td>516</td>\n",
       "      <td>114</td>\n",
       "      <td>31</td>\n",
       "      <td>90</td>\n",
       "      <td>14</td>\n",
       "      <td>4</td>\n",
       "      <td>19</td>\n",
       "      <td>11</td>\n",
       "      <td>4</td>\n",
       "      <td>412</td>\n",
       "      <td>4</td>\n",
       "      <td>3</td>\n",
       "      <td>92</td>\n",
       "      <td>4</td>\n",
       "      <td>14</td>\n",
       "      <td>22</td>\n",
       "      <td>4</td>\n",
       "      <td>7</td>\n",
       "      <td>0</td>\n",
       "      <td>0</td>\n",
       "      <td>0</td>\n",
       "      <td>0</td>\n",
       "      <td>0</td>\n",
       "      <td>164</td>\n",
       "      <td>18</td>\n",
       "      <td>141</td>\n",
       "      <td>40</td>\n",
       "      <td>51</td>\n",
       "    </tr>\n",
       "    <tr>\n",
       "      <th>4</th>\n",
       "      <td>3330080762</td>\n",
       "      <td>1504554410899</td>\n",
       "      <td>2094</td>\n",
       "      <td>9</td>\n",
       "      <td>1</td>\n",
       "      <td>2</td>\n",
       "      <td>1</td>\n",
       "      <td>1</td>\n",
       "      <td>1</td>\n",
       "      <td>1</td>\n",
       "      <td>0</td>\n",
       "      <td>19</td>\n",
       "      <td>4</td>\n",
       "      <td>12</td>\n",
       "      <td>29</td>\n",
       "      <td>11</td>\n",
       "      <td>4</td>\n",
       "      <td>40</td>\n",
       "      <td>4</td>\n",
       "      <td>3</td>\n",
       "      <td>119</td>\n",
       "      <td>4</td>\n",
       "      <td>7</td>\n",
       "      <td>134</td>\n",
       "      <td>7</td>\n",
       "      <td>4</td>\n",
       "      <td>9</td>\n",
       "      <td>2</td>\n",
       "      <td>1</td>\n",
       "      <td>3</td>\n",
       "      <td>0</td>\n",
       "      <td>90</td>\n",
       "      <td>64</td>\n",
       "      <td>412</td>\n",
       "      <td>25</td>\n",
       "      <td>31</td>\n",
       "      <td>37</td>\n",
       "      <td>3</td>\n",
       "      <td>4</td>\n",
       "      <td>59</td>\n",
       "      <td>4</td>\n",
       "      <td>12</td>\n",
       "      <td>141</td>\n",
       "      <td>11</td>\n",
       "      <td>4</td>\n",
       "      <td>38</td>\n",
       "      <td>4</td>\n",
       "      <td>12</td>\n",
       "      <td>51</td>\n",
       "      <td>4</td>\n",
       "      <td>7</td>\n",
       "      <td>3</td>\n",
       "      <td>0</td>\n",
       "      <td>0</td>\n",
       "      <td>1</td>\n",
       "      <td>0</td>\n",
       "      <td>86</td>\n",
       "      <td>11</td>\n",
       "      <td>201</td>\n",
       "      <td>122</td>\n",
       "      <td>18</td>\n",
       "    </tr>\n",
       "  </tbody>\n",
       "</table>\n",
       "</div>"
      ],
      "text/plain": [
       "       gameId   creationTime  gameDuration  seasonId  winner  firstBlood  \\\n",
       "0  3326086514  1504279457970          1949         9       1           2   \n",
       "1  3229566029  1497848803862          1851         9       1           1   \n",
       "2  3327363504  1504360103310          1493         9       1           2   \n",
       "3  3326856598  1504348503996          1758         9       1           1   \n",
       "4  3330080762  1504554410899          2094         9       1           2   \n",
       "\n",
       "   firstTower  firstInhibitor  firstBaron  firstDragon  firstRiftHerald  \\\n",
       "0           1               1           1            1                2   \n",
       "1           1               1           0            1                1   \n",
       "2           1               1           1            2                0   \n",
       "3           1               1           1            1                0   \n",
       "4           1               1           1            1                0   \n",
       "\n",
       "   t1_champ1id  t1_champ1_sum1  t1_champ1_sum2  t1_champ2id  t1_champ2_sum1  \\\n",
       "0            8              12               4          432               3   \n",
       "1          119               7               4           39              12   \n",
       "2           18               4               7          141              11   \n",
       "3           57               4              12           63               4   \n",
       "4           19               4              12           29              11   \n",
       "\n",
       "   t1_champ2_sum2  t1_champ3id  t1_champ3_sum1  t1_champ3_sum2  t1_champ4id  \\\n",
       "0               4           96               4               7           11   \n",
       "1               4           76               4               3           10   \n",
       "2               4          267               3               4           68   \n",
       "3              14           29               4               7           61   \n",
       "4               4           40               4               3          119   \n",
       "\n",
       "   t1_champ4_sum1  t1_champ4_sum2  t1_champ5id  t1_champ5_sum1  \\\n",
       "0              11               6          112               4   \n",
       "1               4              14           35               4   \n",
       "2               4              12           38              12   \n",
       "3               4               1           36              11   \n",
       "4               4               7          134               7   \n",
       "\n",
       "   t1_champ5_sum2  t1_towerKills  t1_inhibitorKills  t1_baronKills  \\\n",
       "0              14             11                  1              2   \n",
       "1              11             10                  4              0   \n",
       "2               4              8                  1              1   \n",
       "3               4              9                  2              1   \n",
       "4               4              9                  2              1   \n",
       "\n",
       "   t1_dragonKills  t1_riftHeraldKills  t1_ban1  t1_ban2  t1_ban3  t1_ban4  \\\n",
       "0               3                   0       92       40       69      119   \n",
       "1               2                   1       51      122       17      498   \n",
       "2               1                   0      117       40       29       16   \n",
       "3               2                   0      238       67      516      114   \n",
       "4               3                   0       90       64      412       25   \n",
       "\n",
       "   t1_ban5  t2_champ1id  t2_champ1_sum1  t2_champ1_sum2  t2_champ2id  \\\n",
       "0      141          104              11               4          498   \n",
       "1       19           54               4              12           25   \n",
       "2       53           69               4               7          412   \n",
       "3       31           90              14               4           19   \n",
       "4       31           37               3               4           59   \n",
       "\n",
       "   t2_champ2_sum1  t2_champ2_sum2  t2_champ3id  t2_champ3_sum1  \\\n",
       "0               4               7          122               6   \n",
       "1               4              14          120              11   \n",
       "2              14               4          126               4   \n",
       "3              11               4          412               4   \n",
       "4               4              12          141              11   \n",
       "\n",
       "   t2_champ3_sum2  t2_champ4id  t2_champ4_sum1  t2_champ4_sum2  t2_champ5id  \\\n",
       "0               4          238              14               4          412   \n",
       "1               4          157               4              14           92   \n",
       "2              12           24               4              11           22   \n",
       "3               3           92               4              14           22   \n",
       "4               4           38               4              12           51   \n",
       "\n",
       "   t2_champ5_sum1  t2_champ5_sum2  t2_towerKills  t2_inhibitorKills  \\\n",
       "0               4               3              5                  0   \n",
       "1               4               7              2                  0   \n",
       "2               7               4              2                  0   \n",
       "3               4               7              0                  0   \n",
       "4               4               7              3                  0   \n",
       "\n",
       "   t2_baronKills  t2_dragonKills  t2_riftHeraldKills  t2_ban1  t2_ban2  \\\n",
       "0              0               1                   1      114       67   \n",
       "1              0               0                   0       11       67   \n",
       "2              0               1                   0      157      238   \n",
       "3              0               0                   0      164       18   \n",
       "4              0               1                   0       86       11   \n",
       "\n",
       "   t2_ban3  t2_ban4  t2_ban5  \n",
       "0       43       16       51  \n",
       "1      238       51      420  \n",
       "2      121       57       28  \n",
       "3      141       40       51  \n",
       "4      201      122       18  "
      ]
     },
     "execution_count": 58,
     "metadata": {},
     "output_type": "execute_result"
    }
   ],
   "source": [
    "# 读入数据\n",
    "df = pd.read_csv('./archive/games.csv')\n",
    "df.head() "
   ]
  },
  {
   "cell_type": "code",
   "execution_count": 59,
   "metadata": {},
   "outputs": [
    {
     "data": {
      "text/plain": [
       "(51490, 61)"
      ]
     },
     "execution_count": 59,
     "metadata": {},
     "output_type": "execute_result"
    }
   ],
   "source": [
    "df.shape"
   ]
  },
  {
   "cell_type": "markdown",
   "metadata": {},
   "source": [
    "## 数据可视化"
   ]
  },
  {
   "cell_type": "markdown",
   "metadata": {},
   "source": [
    "### 目标变量分布"
   ]
  },
  {
   "cell_type": "code",
   "execution_count": 60,
   "metadata": {},
   "outputs": [
    {
     "data": {
      "text/plain": [
       "1    26077\n",
       "2    25413\n",
       "Name: winner, dtype: int64"
      ]
     },
     "execution_count": 60,
     "metadata": {},
     "output_type": "execute_result"
    }
   ],
   "source": [
    "df.winner.value_counts() "
   ]
  },
  {
   "cell_type": "code",
   "execution_count": 61,
   "metadata": {},
   "outputs": [
    {
     "data": {
      "text/plain": [
       "'./html/整体获胜情况分布.html'"
      ]
     },
     "execution_count": 61,
     "metadata": {},
     "output_type": "execute_result"
    }
   ],
   "source": [
    "# 饼图\n",
    "trace0 = go.Pie(labels=df['winner'].value_counts().index, \n",
    "                values=df['winner'].value_counts().values,\n",
    "                hole=0.5,\n",
    "                opacity=0.9,\n",
    "                marker=dict(line=dict(color='white', width=1.3))\n",
    "               ) \n",
    "layout = go.Layout(title='目标变量winner分布')\n",
    "\n",
    "data = [trace0]\n",
    "fig = go.Figure(data, layout)\n",
    "py.offline.plot(fig, filename='./html/整体获胜情况分布.html')"
   ]
  },
  {
   "cell_type": "markdown",
   "metadata": {},
   "source": [
    "数据集一共有51490条记录，其中1队获胜的次数为26077次，占比50.6%，2队获胜的次数为25413次，占比49.4%。不存在样本不平衡的情况。"
   ]
  },
  {
   "cell_type": "markdown",
   "metadata": {},
   "source": [
    "### 游戏时长分布"
   ]
  },
  {
   "cell_type": "code",
   "execution_count": 71,
   "metadata": {},
   "outputs": [
    {
     "data": {
      "text/plain": [
       "'./html/游戏时长分布.html'"
      ]
     },
     "execution_count": 71,
     "metadata": {},
     "output_type": "execute_result"
    }
   ],
   "source": [
    "df['game_duration'] = round(df['gameDuration'] / 60) \n",
    "\n",
    "# 选择数据\n",
    "x1 = df[df['winner'] == 1]['game_duration']\n",
    "x2 = df[df['winner'] == 2]['game_duration'] \n",
    "\n",
    "# 直方图\n",
    "trace0 = go.Histogram(x=x1, bingroup=25, name='team1', opacity=0.9)\n",
    "trace1 = go.Histogram(x=x2, bingroup=25, name='team2', opacity=0.9)  \n",
    "\n",
    "layout = go.Layout(title='比赛游戏时长分布') \n",
    "\n",
    "data = [trace0, trace1] \n",
    "fig = go.Figure(data, layout)\n",
    "py.offline.plot(fig, filename='./html/游戏时长分布.html')"
   ]
  },
  {
   "cell_type": "markdown",
   "metadata": {},
   "source": [
    "从直方图可以看出，游戏时长大致服从正态分布，其中最短的游戏时长为3分钟，3分钟是游戏重开的时间点，最长的游戏时长是79分钟。中间50%的时长在26~36分钟之间。"
   ]
  },
  {
   "cell_type": "markdown",
   "metadata": {},
   "source": [
    "### 一血对获胜的影响"
   ]
  },
  {
   "cell_type": "code",
   "execution_count": 139,
   "metadata": {},
   "outputs": [],
   "source": [
    "def plot_bar_horizontal(input_col: str, target_col: str, title_name: str):\n",
    "    cross_table = round(pd.crosstab(df[input_col], df[target_col], normalize='index')*100, 2)\n",
    "\n",
    "    # 索引\n",
    "    index_0 = cross_table.columns.tolist()[0] \n",
    "    index_1 = cross_table.columns.tolist()[1] \n",
    "    \n",
    "    # 绘图轨迹\n",
    "    trace0 = go.Bar(x=cross_table[index_0].values.tolist(),\n",
    "                    y=cross_table.index.tolist(), \n",
    "                    name=index_0,\n",
    "                    orientation='h',\n",
    "                    marker=dict(color='rgb(154,203,228)')\n",
    "                   ) \n",
    "    trace1 = go.Bar(x=cross_table[index_1].values.tolist(),  \n",
    "                    y=cross_table.index.tolist(),\n",
    "                    name=index_1,\n",
    "                    orientation='h',\n",
    "                    marker=dict(color='rgb(191,76,81)')\n",
    "                   ) \n",
    "\n",
    "    data = [trace0, trace1] \n",
    "    # 布局\n",
    "    layout = go.Layout(title=title_name, bargap=0.4, barmode='stack')\n",
    "    \n",
    "    # 画布\n",
    "    fig = go.Figure(data=data, layout=layout)\n",
    "    # 绘图\n",
    "    py.offline.plot(fig, filename=f'./html/{title_name}.html') "
   ]
  },
  {
   "cell_type": "code",
   "execution_count": 152,
   "metadata": {},
   "outputs": [],
   "source": [
    "def plot_bar_vertical(input_col: str, target_col: str, title_name: str):\n",
    "    cross_table = round(pd.crosstab(df[input_col], df[target_col], normalize='index')*100, 2)\n",
    "\n",
    "    # 索引\n",
    "    index_0 = cross_table.columns.tolist()[0] \n",
    "    index_1 = cross_table.columns.tolist()[1] \n",
    "    \n",
    "    # 绘图轨迹\n",
    "    trace0 = go.Bar(x=cross_table.index.tolist(),\n",
    "                    y=cross_table[index_0].values.tolist(),\n",
    "                    name=index_0,\n",
    "                    orientation='v',\n",
    "                    marker=dict(color='rgb(191,76,81)')\n",
    "                   ) \n",
    "    trace1 = go.Bar(x=cross_table.index.tolist(),  \n",
    "                    y=cross_table[index_1].values.tolist(),\n",
    "                    name=index_1,\n",
    "                    orientation='v',\n",
    "                    marker=dict(color='rgb(154,203,228)')\n",
    "                   ) \n",
    "\n",
    "    data = [trace0, trace1] \n",
    "    # 布局\n",
    "    layout = go.Layout(title=title_name, bargap=0.4, barmode='stack')\n",
    "    \n",
    "    # 画布\n",
    "    fig = go.Figure(data=data, layout=layout)\n",
    "    # 绘图\n",
    "    py.offline.plot(fig, filename=f'./html/{title_name}.html') "
   ]
  },
  {
   "cell_type": "code",
   "execution_count": 133,
   "metadata": {},
   "outputs": [
    {
     "data": {
      "text/html": [
       "<div>\n",
       "<style scoped>\n",
       "    .dataframe tbody tr th:only-of-type {\n",
       "        vertical-align: middle;\n",
       "    }\n",
       "\n",
       "    .dataframe tbody tr th {\n",
       "        vertical-align: top;\n",
       "    }\n",
       "\n",
       "    .dataframe thead th {\n",
       "        text-align: right;\n",
       "    }\n",
       "</style>\n",
       "<table border=\"1\" class=\"dataframe\">\n",
       "  <thead>\n",
       "    <tr style=\"text-align: right;\">\n",
       "      <th>winner</th>\n",
       "      <th>1</th>\n",
       "      <th>2</th>\n",
       "    </tr>\n",
       "    <tr>\n",
       "      <th>firstBlood</th>\n",
       "      <th></th>\n",
       "      <th></th>\n",
       "    </tr>\n",
       "  </thead>\n",
       "  <tbody>\n",
       "    <tr>\n",
       "      <th>0</th>\n",
       "      <td>298</td>\n",
       "      <td>257</td>\n",
       "    </tr>\n",
       "    <tr>\n",
       "      <th>1</th>\n",
       "      <td>15532</td>\n",
       "      <td>10581</td>\n",
       "    </tr>\n",
       "    <tr>\n",
       "      <th>2</th>\n",
       "      <td>10247</td>\n",
       "      <td>14575</td>\n",
       "    </tr>\n",
       "  </tbody>\n",
       "</table>\n",
       "</div>"
      ],
      "text/plain": [
       "winner          1      2\n",
       "firstBlood              \n",
       "0             298    257\n",
       "1           15532  10581\n",
       "2           10247  14575"
      ]
     },
     "execution_count": 133,
     "metadata": {},
     "output_type": "execute_result"
    }
   ],
   "source": [
    "pd.crosstab(df['firstBlood'], df['winner'])  "
   ]
  },
  {
   "cell_type": "code",
   "execution_count": 144,
   "metadata": {},
   "outputs": [],
   "source": [
    "plot_bar_horizontal(input_col='firstBlood', target_col='winner', title_name='一血对获胜的影响')  "
   ]
  },
  {
   "cell_type": "markdown",
   "metadata": {},
   "source": [
    "结论：获得一血的队伍胜率相对较高，在第一队的比赛中，首先获得一血时的胜率为59.48%，相较未获得一血的比赛高18%。在第二队的比赛中，获得一血时的胜率为58.72%，相较未获得一血的比赛高18%。"
   ]
  },
  {
   "cell_type": "markdown",
   "metadata": {},
   "source": [
    "### 一塔对获胜的影响"
   ]
  },
  {
   "cell_type": "code",
   "execution_count": 88,
   "metadata": {},
   "outputs": [
    {
     "data": {
      "text/html": [
       "<div>\n",
       "<style scoped>\n",
       "    .dataframe tbody tr th:only-of-type {\n",
       "        vertical-align: middle;\n",
       "    }\n",
       "\n",
       "    .dataframe tbody tr th {\n",
       "        vertical-align: top;\n",
       "    }\n",
       "\n",
       "    .dataframe thead th {\n",
       "        text-align: right;\n",
       "    }\n",
       "</style>\n",
       "<table border=\"1\" class=\"dataframe\">\n",
       "  <thead>\n",
       "    <tr style=\"text-align: right;\">\n",
       "      <th>winner</th>\n",
       "      <th>1</th>\n",
       "      <th>2</th>\n",
       "    </tr>\n",
       "    <tr>\n",
       "      <th>firstTower</th>\n",
       "      <th></th>\n",
       "      <th></th>\n",
       "    </tr>\n",
       "  </thead>\n",
       "  <tbody>\n",
       "    <tr>\n",
       "      <th>0</th>\n",
       "      <td>628</td>\n",
       "      <td>585</td>\n",
       "    </tr>\n",
       "    <tr>\n",
       "      <th>1</th>\n",
       "      <td>18320</td>\n",
       "      <td>7541</td>\n",
       "    </tr>\n",
       "    <tr>\n",
       "      <th>2</th>\n",
       "      <td>7129</td>\n",
       "      <td>17287</td>\n",
       "    </tr>\n",
       "  </tbody>\n",
       "</table>\n",
       "</div>"
      ],
      "text/plain": [
       "winner          1      2\n",
       "firstTower              \n",
       "0             628    585\n",
       "1           18320   7541\n",
       "2            7129  17287"
      ]
     },
     "execution_count": 88,
     "metadata": {},
     "output_type": "execute_result"
    }
   ],
   "source": [
    "pd.crosstab(df['firstTower'], df['winner']) "
   ]
  },
  {
   "cell_type": "code",
   "execution_count": 145,
   "metadata": {},
   "outputs": [],
   "source": [
    "plot_bar_horizontal(input_col='firstTower', target_col='winner', title_name='一塔对获胜的影响')  "
   ]
  },
  {
   "cell_type": "markdown",
   "metadata": {},
   "source": [
    "结论：从数据来看，第一个防御塔看起来是比较有说服力的指标。在第一队的比赛中，首先摧毁一塔时队伍的胜率高达70.84%，相较未获得一塔的比赛高41.64%。在第二队的比赛中，有相近的数据表现。"
   ]
  },
  {
   "cell_type": "markdown",
   "metadata": {},
   "source": [
    "### 摧毁第一个水晶对获胜的影响"
   ]
  },
  {
   "cell_type": "code",
   "execution_count": 94,
   "metadata": {},
   "outputs": [
    {
     "data": {
      "text/html": [
       "<div>\n",
       "<style scoped>\n",
       "    .dataframe tbody tr th:only-of-type {\n",
       "        vertical-align: middle;\n",
       "    }\n",
       "\n",
       "    .dataframe tbody tr th {\n",
       "        vertical-align: top;\n",
       "    }\n",
       "\n",
       "    .dataframe thead th {\n",
       "        text-align: right;\n",
       "    }\n",
       "</style>\n",
       "<table border=\"1\" class=\"dataframe\">\n",
       "  <thead>\n",
       "    <tr style=\"text-align: right;\">\n",
       "      <th>winner</th>\n",
       "      <th>1</th>\n",
       "      <th>2</th>\n",
       "    </tr>\n",
       "    <tr>\n",
       "      <th>firstInhibitor</th>\n",
       "      <th></th>\n",
       "      <th></th>\n",
       "    </tr>\n",
       "  </thead>\n",
       "  <tbody>\n",
       "    <tr>\n",
       "      <th>0</th>\n",
       "      <td>3210</td>\n",
       "      <td>3066</td>\n",
       "    </tr>\n",
       "    <tr>\n",
       "      <th>1</th>\n",
       "      <td>20949</td>\n",
       "      <td>2105</td>\n",
       "    </tr>\n",
       "    <tr>\n",
       "      <th>2</th>\n",
       "      <td>1918</td>\n",
       "      <td>20242</td>\n",
       "    </tr>\n",
       "  </tbody>\n",
       "</table>\n",
       "</div>"
      ],
      "text/plain": [
       "winner              1      2\n",
       "firstInhibitor              \n",
       "0                3210   3066\n",
       "1               20949   2105\n",
       "2                1918  20242"
      ]
     },
     "execution_count": 94,
     "metadata": {},
     "output_type": "execute_result"
    }
   ],
   "source": [
    "pd.crosstab(df['firstInhibitor'], df['winner'])  "
   ]
  },
  {
   "cell_type": "code",
   "execution_count": 146,
   "metadata": {},
   "outputs": [],
   "source": [
    "plot_bar_horizontal(input_col='firstInhibitor', target_col='winner', title_name='摧毁第一个水晶对获胜的影响')  "
   ]
  },
  {
   "cell_type": "markdown",
   "metadata": {},
   "source": [
    "结论：在比赛中拿到第一座水晶塔的队伍91%的情况下可以获胜，这一点在某种程度上是可以预见的，因为首先摧毁水晶塔代表队伍已经积累的足够的优势，而且水晶塔力量很强大，并且更具有价值。"
   ]
  },
  {
   "cell_type": "markdown",
   "metadata": {},
   "source": [
    "### 击杀第一条男爵对获胜影响"
   ]
  },
  {
   "cell_type": "code",
   "execution_count": 97,
   "metadata": {},
   "outputs": [
    {
     "data": {
      "text/html": [
       "<div>\n",
       "<style scoped>\n",
       "    .dataframe tbody tr th:only-of-type {\n",
       "        vertical-align: middle;\n",
       "    }\n",
       "\n",
       "    .dataframe tbody tr th {\n",
       "        vertical-align: top;\n",
       "    }\n",
       "\n",
       "    .dataframe thead th {\n",
       "        text-align: right;\n",
       "    }\n",
       "</style>\n",
       "<table border=\"1\" class=\"dataframe\">\n",
       "  <thead>\n",
       "    <tr style=\"text-align: right;\">\n",
       "      <th>winner</th>\n",
       "      <th>1</th>\n",
       "      <th>2</th>\n",
       "    </tr>\n",
       "    <tr>\n",
       "      <th>firstBaron</th>\n",
       "      <th></th>\n",
       "      <th></th>\n",
       "    </tr>\n",
       "  </thead>\n",
       "  <tbody>\n",
       "    <tr>\n",
       "      <th>0</th>\n",
       "      <td>10844</td>\n",
       "      <td>9414</td>\n",
       "    </tr>\n",
       "    <tr>\n",
       "      <th>1</th>\n",
       "      <td>11978</td>\n",
       "      <td>2780</td>\n",
       "    </tr>\n",
       "    <tr>\n",
       "      <th>2</th>\n",
       "      <td>3255</td>\n",
       "      <td>13219</td>\n",
       "    </tr>\n",
       "  </tbody>\n",
       "</table>\n",
       "</div>"
      ],
      "text/plain": [
       "winner          1      2\n",
       "firstBaron              \n",
       "0           10844   9414\n",
       "1           11978   2780\n",
       "2            3255  13219"
      ]
     },
     "execution_count": 97,
     "metadata": {},
     "output_type": "execute_result"
    }
   ],
   "source": [
    "pd.crosstab(df['firstBaron'], df['winner']) "
   ]
  },
  {
   "cell_type": "code",
   "execution_count": 147,
   "metadata": {},
   "outputs": [],
   "source": [
    "plot_bar_horizontal(input_col='firstBaron', target_col='winner', title_name='击杀第一条男爵对获胜影响')  "
   ]
  },
  {
   "cell_type": "markdown",
   "metadata": {},
   "source": [
    "结论：统计数据显示，在比赛中击杀第一条男爵有80%的胜率。"
   ]
  },
  {
   "cell_type": "markdown",
   "metadata": {},
   "source": [
    "### 击杀第一条大龙对获胜的影响"
   ]
  },
  {
   "cell_type": "code",
   "execution_count": 100,
   "metadata": {},
   "outputs": [
    {
     "data": {
      "text/html": [
       "<div>\n",
       "<style scoped>\n",
       "    .dataframe tbody tr th:only-of-type {\n",
       "        vertical-align: middle;\n",
       "    }\n",
       "\n",
       "    .dataframe tbody tr th {\n",
       "        vertical-align: top;\n",
       "    }\n",
       "\n",
       "    .dataframe thead th {\n",
       "        text-align: right;\n",
       "    }\n",
       "</style>\n",
       "<table border=\"1\" class=\"dataframe\">\n",
       "  <thead>\n",
       "    <tr style=\"text-align: right;\">\n",
       "      <th>winner</th>\n",
       "      <th>1</th>\n",
       "      <th>2</th>\n",
       "    </tr>\n",
       "    <tr>\n",
       "      <th>firstDragon</th>\n",
       "      <th></th>\n",
       "      <th></th>\n",
       "    </tr>\n",
       "  </thead>\n",
       "  <tbody>\n",
       "    <tr>\n",
       "      <th>0</th>\n",
       "      <td>1072</td>\n",
       "      <td>928</td>\n",
       "    </tr>\n",
       "    <tr>\n",
       "      <th>1</th>\n",
       "      <td>16937</td>\n",
       "      <td>7753</td>\n",
       "    </tr>\n",
       "    <tr>\n",
       "      <th>2</th>\n",
       "      <td>8068</td>\n",
       "      <td>16732</td>\n",
       "    </tr>\n",
       "  </tbody>\n",
       "</table>\n",
       "</div>"
      ],
      "text/plain": [
       "winner           1      2\n",
       "firstDragon              \n",
       "0             1072    928\n",
       "1            16937   7753\n",
       "2             8068  16732"
      ]
     },
     "execution_count": 100,
     "metadata": {},
     "output_type": "execute_result"
    }
   ],
   "source": [
    "pd.crosstab(df['firstDragon'], df['winner']) "
   ]
  },
  {
   "cell_type": "code",
   "execution_count": 148,
   "metadata": {},
   "outputs": [],
   "source": [
    "plot_bar_horizontal(input_col='firstDragon', target_col='winner', title_name='击杀第一条大龙对获胜的影响') "
   ]
  },
  {
   "cell_type": "markdown",
   "metadata": {},
   "source": [
    "结论：在第一个队伍中，首先击杀第一条大龙的队伍胜率在68.6%，相较未取得优先的比赛胜率高36%。"
   ]
  },
  {
   "cell_type": "markdown",
   "metadata": {},
   "source": [
    "### 击杀第一条峡谷先锋对获胜的影响"
   ]
  },
  {
   "cell_type": "code",
   "execution_count": 105,
   "metadata": {},
   "outputs": [
    {
     "data": {
      "text/html": [
       "<div>\n",
       "<style scoped>\n",
       "    .dataframe tbody tr th:only-of-type {\n",
       "        vertical-align: middle;\n",
       "    }\n",
       "\n",
       "    .dataframe tbody tr th {\n",
       "        vertical-align: top;\n",
       "    }\n",
       "\n",
       "    .dataframe thead th {\n",
       "        text-align: right;\n",
       "    }\n",
       "</style>\n",
       "<table border=\"1\" class=\"dataframe\">\n",
       "  <thead>\n",
       "    <tr style=\"text-align: right;\">\n",
       "      <th>winner</th>\n",
       "      <th>1</th>\n",
       "      <th>2</th>\n",
       "    </tr>\n",
       "    <tr>\n",
       "      <th>firstRiftHerald</th>\n",
       "      <th></th>\n",
       "      <th></th>\n",
       "    </tr>\n",
       "  </thead>\n",
       "  <tbody>\n",
       "    <tr>\n",
       "      <th>0</th>\n",
       "      <td>13309</td>\n",
       "      <td>12870</td>\n",
       "    </tr>\n",
       "    <tr>\n",
       "      <th>1</th>\n",
       "      <td>8993</td>\n",
       "      <td>3955</td>\n",
       "    </tr>\n",
       "    <tr>\n",
       "      <th>2</th>\n",
       "      <td>3775</td>\n",
       "      <td>8588</td>\n",
       "    </tr>\n",
       "  </tbody>\n",
       "</table>\n",
       "</div>"
      ],
      "text/plain": [
       "winner               1      2\n",
       "firstRiftHerald              \n",
       "0                13309  12870\n",
       "1                 8993   3955\n",
       "2                 3775   8588"
      ]
     },
     "execution_count": 105,
     "metadata": {},
     "output_type": "execute_result"
    }
   ],
   "source": [
    "pd.crosstab(df['firstRiftHerald'], df['winner']) "
   ]
  },
  {
   "cell_type": "code",
   "execution_count": 150,
   "metadata": {},
   "outputs": [],
   "source": [
    "plot_bar_horizontal(input_col='firstRiftHerald', target_col='winner', \n",
    "                    title_name='击杀第一条峡谷先锋对获胜的影响')"
   ]
  },
  {
   "cell_type": "markdown",
   "metadata": {},
   "source": [
    "结论：在第一个队伍中，首先击杀第一条峡谷先锋的队伍胜率在69.45%，相较未取得优先的比赛胜率高38.92%。"
   ]
  },
  {
   "cell_type": "markdown",
   "metadata": {},
   "source": [
    "### 摧毁防御塔数对获胜影响"
   ]
  },
  {
   "cell_type": "code",
   "execution_count": 158,
   "metadata": {},
   "outputs": [
    {
     "data": {
      "text/plain": [
       "11    5945\n",
       "0     5938\n",
       "10    5784\n",
       "9     5297\n",
       "1     4428\n",
       "3     4041\n",
       "2     3941\n",
       "8     3918\n",
       "4     3361\n",
       "7     3269\n",
       "5     2960\n",
       "6     2608\n",
       "Name: t1_towerKills, dtype: int64"
      ]
     },
     "execution_count": 158,
     "metadata": {},
     "output_type": "execute_result"
    }
   ],
   "source": [
    "df.t1_towerKills.value_counts() "
   ]
  },
  {
   "cell_type": "code",
   "execution_count": 153,
   "metadata": {},
   "outputs": [],
   "source": [
    "plot_bar_vertical(input_col='t1_towerKills', target_col='winner', title_name='摧毁防御塔数对获胜影响')  "
   ]
  },
  {
   "cell_type": "markdown",
   "metadata": {},
   "source": [
    "结论：选择第一个队伍的摧毁防御塔数作为影响因素，可以看出，摧毁的防御塔数量越多，获胜的概率越大。当数量大于8个时，胜率大于85%。11个防御塔全部摧毁时的胜率为99.16%，当然也有8.4‰的翻盘概率。"
   ]
  },
  {
   "cell_type": "markdown",
   "metadata": {},
   "source": [
    "### 摧毁水晶数对获胜影响"
   ]
  },
  {
   "cell_type": "code",
   "execution_count": 157,
   "metadata": {},
   "outputs": [
    {
     "data": {
      "text/plain": [
       "0     25732\n",
       "1      9567\n",
       "2      8879\n",
       "3      5104\n",
       "4      1584\n",
       "5       423\n",
       "6       137\n",
       "7        43\n",
       "8        11\n",
       "9         6\n",
       "10        4\n",
       "Name: t1_inhibitorKills, dtype: int64"
      ]
     },
     "execution_count": 157,
     "metadata": {},
     "output_type": "execute_result"
    }
   ],
   "source": [
    "df.t1_inhibitorKills.value_counts() "
   ]
  },
  {
   "cell_type": "code",
   "execution_count": 156,
   "metadata": {},
   "outputs": [],
   "source": [
    "plot_bar_vertical(input_col='t1_inhibitorKills', target_col='winner', title_name='摧毁水晶数对获胜影响')  "
   ]
  },
  {
   "cell_type": "markdown",
   "metadata": {},
   "source": [
    "结论：摧毁水晶的数目越多，获胜的概率越大。没有摧毁水晶的获胜概率为12.55%，摧毁一个的获胜概率为81.11%，两个为92.38%。"
   ]
  },
  {
   "cell_type": "markdown",
   "metadata": {},
   "source": [
    "### 击杀男爵数对获胜影响"
   ]
  },
  {
   "cell_type": "code",
   "execution_count": 162,
   "metadata": {},
   "outputs": [
    {
     "data": {
      "text/plain": [
       "0    34901\n",
       "1    14179\n",
       "2     2251\n",
       "3      149\n",
       "4        9\n",
       "5        1\n",
       "Name: t1_baronKills, dtype: int64"
      ]
     },
     "execution_count": 162,
     "metadata": {},
     "output_type": "execute_result"
    }
   ],
   "source": [
    "df.t1_baronKills.value_counts() "
   ]
  },
  {
   "cell_type": "code",
   "execution_count": 161,
   "metadata": {},
   "outputs": [],
   "source": [
    "plot_bar_vertical(input_col='t1_baronKills', target_col='winner', title_name='击杀男爵数对获胜影响')  "
   ]
  },
  {
   "cell_type": "markdown",
   "metadata": {},
   "source": [
    "结论：击杀男爵数越多，获胜的概率越大，击杀5条男爵的数据仅有一条，后续需要删除。"
   ]
  },
  {
   "cell_type": "markdown",
   "metadata": {},
   "source": [
    "### 击杀大龙数对获胜影响"
   ]
  },
  {
   "cell_type": "code",
   "execution_count": 166,
   "metadata": {},
   "outputs": [],
   "source": [
    "plot_bar_vertical(input_col='t1_dragonKills', target_col='winner', title_name='击杀大龙数对获胜影响')"
   ]
  },
  {
   "cell_type": "markdown",
   "metadata": {},
   "source": [
    "结论：击杀大龙数数越多，获胜的概率越大"
   ]
  },
  {
   "cell_type": "markdown",
   "metadata": {},
   "source": [
    "## 数据建模"
   ]
  },
  {
   "cell_type": "code",
   "execution_count": 167,
   "metadata": {},
   "outputs": [
    {
     "name": "stdout",
     "output_type": "stream",
     "text": [
      "(50180, 62)\n"
     ]
    }
   ],
   "source": [
    "# 删除时间少于15分钟和分类数较少的记录\n",
    "df = df[(df['gameDuration'] >= 900) & (df['t1_baronKills'] != 5)]\n",
    "print(df.shape) "
   ]
  },
  {
   "cell_type": "code",
   "execution_count": 168,
   "metadata": {},
   "outputs": [
    {
     "data": {
      "text/html": [
       "<div>\n",
       "<style scoped>\n",
       "    .dataframe tbody tr th:only-of-type {\n",
       "        vertical-align: middle;\n",
       "    }\n",
       "\n",
       "    .dataframe tbody tr th {\n",
       "        vertical-align: top;\n",
       "    }\n",
       "\n",
       "    .dataframe thead th {\n",
       "        text-align: right;\n",
       "    }\n",
       "</style>\n",
       "<table border=\"1\" class=\"dataframe\">\n",
       "  <thead>\n",
       "    <tr style=\"text-align: right;\">\n",
       "      <th></th>\n",
       "      <th>winner</th>\n",
       "      <th>firstBlood</th>\n",
       "      <th>firstTower</th>\n",
       "      <th>firstInhibitor</th>\n",
       "      <th>firstBaron</th>\n",
       "      <th>firstDragon</th>\n",
       "      <th>firstRiftHerald</th>\n",
       "      <th>t1_towerKills</th>\n",
       "      <th>t1_inhibitorKills</th>\n",
       "      <th>t1_baronKills</th>\n",
       "      <th>t1_dragonKills</th>\n",
       "      <th>t2_towerKills</th>\n",
       "      <th>t2_inhibitorKills</th>\n",
       "      <th>t2_baronKills</th>\n",
       "      <th>t2_dragonKills</th>\n",
       "    </tr>\n",
       "  </thead>\n",
       "  <tbody>\n",
       "    <tr>\n",
       "      <th>0</th>\n",
       "      <td>1</td>\n",
       "      <td>2</td>\n",
       "      <td>1</td>\n",
       "      <td>1</td>\n",
       "      <td>1</td>\n",
       "      <td>1</td>\n",
       "      <td>2</td>\n",
       "      <td>11</td>\n",
       "      <td>1</td>\n",
       "      <td>2</td>\n",
       "      <td>3</td>\n",
       "      <td>5</td>\n",
       "      <td>0</td>\n",
       "      <td>0</td>\n",
       "      <td>1</td>\n",
       "    </tr>\n",
       "    <tr>\n",
       "      <th>1</th>\n",
       "      <td>1</td>\n",
       "      <td>1</td>\n",
       "      <td>1</td>\n",
       "      <td>1</td>\n",
       "      <td>0</td>\n",
       "      <td>1</td>\n",
       "      <td>1</td>\n",
       "      <td>10</td>\n",
       "      <td>4</td>\n",
       "      <td>0</td>\n",
       "      <td>2</td>\n",
       "      <td>2</td>\n",
       "      <td>0</td>\n",
       "      <td>0</td>\n",
       "      <td>0</td>\n",
       "    </tr>\n",
       "    <tr>\n",
       "      <th>2</th>\n",
       "      <td>1</td>\n",
       "      <td>2</td>\n",
       "      <td>1</td>\n",
       "      <td>1</td>\n",
       "      <td>1</td>\n",
       "      <td>2</td>\n",
       "      <td>0</td>\n",
       "      <td>8</td>\n",
       "      <td>1</td>\n",
       "      <td>1</td>\n",
       "      <td>1</td>\n",
       "      <td>2</td>\n",
       "      <td>0</td>\n",
       "      <td>0</td>\n",
       "      <td>1</td>\n",
       "    </tr>\n",
       "    <tr>\n",
       "      <th>3</th>\n",
       "      <td>1</td>\n",
       "      <td>1</td>\n",
       "      <td>1</td>\n",
       "      <td>1</td>\n",
       "      <td>1</td>\n",
       "      <td>1</td>\n",
       "      <td>0</td>\n",
       "      <td>9</td>\n",
       "      <td>2</td>\n",
       "      <td>1</td>\n",
       "      <td>2</td>\n",
       "      <td>0</td>\n",
       "      <td>0</td>\n",
       "      <td>0</td>\n",
       "      <td>0</td>\n",
       "    </tr>\n",
       "    <tr>\n",
       "      <th>4</th>\n",
       "      <td>1</td>\n",
       "      <td>2</td>\n",
       "      <td>1</td>\n",
       "      <td>1</td>\n",
       "      <td>1</td>\n",
       "      <td>1</td>\n",
       "      <td>0</td>\n",
       "      <td>9</td>\n",
       "      <td>2</td>\n",
       "      <td>1</td>\n",
       "      <td>3</td>\n",
       "      <td>3</td>\n",
       "      <td>0</td>\n",
       "      <td>0</td>\n",
       "      <td>1</td>\n",
       "    </tr>\n",
       "  </tbody>\n",
       "</table>\n",
       "</div>"
      ],
      "text/plain": [
       "   winner  firstBlood  firstTower  firstInhibitor  firstBaron  firstDragon  \\\n",
       "0       1           2           1               1           1            1   \n",
       "1       1           1           1               1           0            1   \n",
       "2       1           2           1               1           1            2   \n",
       "3       1           1           1               1           1            1   \n",
       "4       1           2           1               1           1            1   \n",
       "\n",
       "   firstRiftHerald  t1_towerKills  t1_inhibitorKills  t1_baronKills  \\\n",
       "0                2             11                  1              2   \n",
       "1                1             10                  4              0   \n",
       "2                0              8                  1              1   \n",
       "3                0              9                  2              1   \n",
       "4                0              9                  2              1   \n",
       "\n",
       "   t1_dragonKills  t2_towerKills  t2_inhibitorKills  t2_baronKills  \\\n",
       "0               3              5                  0              0   \n",
       "1               2              2                  0              0   \n",
       "2               1              2                  0              0   \n",
       "3               2              0                  0              0   \n",
       "4               3              3                  0              0   \n",
       "\n",
       "   t2_dragonKills  \n",
       "0               1  \n",
       "1               0  \n",
       "2               1  \n",
       "3               0  \n",
       "4               1  "
      ]
     },
     "execution_count": 168,
     "metadata": {},
     "output_type": "execute_result"
    }
   ],
   "source": [
    "# 筛选建模变量\n",
    "df_model = df[['winner', 'firstBlood', 'firstTower', 'firstInhibitor', 'firstBaron',\n",
    "              'firstDragon', 'firstRiftHerald', 't1_towerKills', 't1_inhibitorKills','t1_baronKills',\n",
    "              't1_dragonKills', 't2_towerKills', 't2_inhibitorKills', 't2_baronKills', 't2_dragonKills'\n",
    "              ]] \n",
    "df_model.head() "
   ]
  },
  {
   "cell_type": "code",
   "execution_count": 45,
   "metadata": {},
   "outputs": [
    {
     "data": {
      "image/png": "[encoded data removed]",
      "text/plain": [
       "<Figure size 1728x720 with 3 Axes>"
      ]
     },
     "metadata": {},
     "output_type": "display_data"
    }
   ],
   "source": [
    "# 查看缺失值\n",
    "import missingno as msno\n",
    "\n",
    "msno.bar(df_model)\n",
    "plt.show()  "
   ]
  },
  {
   "cell_type": "code",
   "execution_count": 170,
   "metadata": {},
   "outputs": [
    {
     "name": "stdout",
     "output_type": "stream",
     "text": [
      "(40144, 14) (10036, 14) (40144,) (10036,)\n"
     ]
    }
   ],
   "source": [
    "# 划分训练集和测试集\n",
    "x = df_model.drop('winner', axis=1)\n",
    "y = df_model['winner']\n",
    "\n",
    "X_train, X_test, y_train, y_test = train_test_split(x, y, test_size=0.2, stratify=y, random_state=0)\n",
    "print(X_train.shape, X_test.shape, y_train.shape, y_test.shape) "
   ]
  },
  {
   "cell_type": "code",
   "execution_count": 176,
   "metadata": {},
   "outputs": [
    {
     "data": {
      "text/plain": [
       "GridSearchCV(cv=10, estimator=DecisionTreeClassifier(random_state=0),\n",
       "             param_grid={'criterion': ('gini', 'entropy'),\n",
       "                         'max_depth': [1, 3, 5, 7, 9, 11, 13, 15, 17, 19],\n",
       "                         'splitter': ('best', 'random')})"
      ]
     },
     "execution_count": 176,
     "metadata": {},
     "output_type": "execute_result"
    }
   ],
   "source": [
    "# 参数\n",
    "parameters = {\n",
    "    'splitter': ('best', 'random'),\n",
    "    'criterion':('gini', 'entropy'),\n",
    "    'max_depth':[*range(1, 20, 2)],\n",
    "}\n",
    "\n",
    "# 建立模型\n",
    "clf = DecisionTreeClassifier(random_state=0)\n",
    "GS = GridSearchCV(clf, parameters, cv=10)\n",
    "GS.fit(X_train, y_train)  "
   ]
  },
  {
   "cell_type": "code",
   "execution_count": 178,
   "metadata": {},
   "outputs": [
    {
     "name": "stdout",
     "output_type": "stream",
     "text": [
      "best score:  0.9770077890521407\n",
      "best param:  {'criterion': 'gini', 'max_depth': 7, 'splitter': 'best'}\n"
     ]
    }
   ],
   "source": [
    "# 输出最佳得分 \n",
    "print(\"best score: \", GS.best_score_)\n",
    "print(\"best param: \", GS.best_params_)"
   ]
  },
  {
   "cell_type": "code",
   "execution_count": 180,
   "metadata": {},
   "outputs": [
    {
     "name": "stdout",
     "output_type": "stream",
     "text": [
      "score: 0.9799721004384216\n"
     ]
    }
   ],
   "source": [
    "# 最佳模型\n",
    "best_clf = DecisionTreeClassifier(criterion=\"gini\", max_depth=7, splitter=\"best\")\n",
    "best_clf.fit(X_train,y_train) \n",
    "print(\"score:\", best_clf.score(X_test,y_test))   "
   ]
  },
  {
   "cell_type": "code",
   "execution_count": 182,
   "metadata": {},
   "outputs": [
    {
     "name": "stdout",
     "output_type": "stream",
     "text": [
      "Classification report : \n",
      "               precision    recall  f1-score   support\n",
      "\n",
      "           1       0.98      0.98      0.98      5077\n",
      "           2       0.98      0.98      0.98      4959\n",
      "\n",
      "    accuracy                           0.98     10036\n",
      "   macro avg       0.98      0.98      0.98     10036\n",
      "weighted avg       0.98      0.98      0.98     10036\n",
      "\n"
     ]
    }
   ],
   "source": [
    "# 分类报告\n",
    "y_pred = best_clf.predict(X_test) \n",
    "cm = confusion_matrix(y_test, y_pred)\n",
    "cr = classification_report(y_test, y_pred)\n",
    "print('Classification report : \\n', cr) "
   ]
  },
  {
   "cell_type": "code",
   "execution_count": 189,
   "metadata": {},
   "outputs": [
    {
     "data": {
      "text/plain": [
       "Text(0.5, 1, 'confusion_matrix')"
      ]
     },
     "execution_count": 189,
     "metadata": {},
     "output_type": "execute_result"
    },
    {
     "data": {
      "image/png": "[encoded data removed]",
      "text/plain": [
       "<Figure size 576x396 with 1 Axes>"
      ]
     },
     "metadata": {},
     "output_type": "display_data"
    }
   ],
   "source": [
    "# 热力图\n",
    "g1 = sns.heatmap(cm, annot=True, fmt=\".1f\", cmap=\"flag\", linewidths=0.2, cbar=False)\n",
    "g1.set_ylabel('y_true', fontdict={'fontsize': 15})\n",
    "g1.set_xlabel('y_pred', fontdict={'fontsize': 15})  \n",
    "g1.set_title('confusion_matrix', fontdict={'fontsize': 15})  "
   ]
  },
  {
   "cell_type": "code",
   "execution_count": 219,
   "metadata": {},
   "outputs": [
    {
     "data": {
      "text/html": [
       "<div>\n",
       "<style scoped>\n",
       "    .dataframe tbody tr th:only-of-type {\n",
       "        vertical-align: middle;\n",
       "    }\n",
       "\n",
       "    .dataframe tbody tr th {\n",
       "        vertical-align: top;\n",
       "    }\n",
       "\n",
       "    .dataframe thead th {\n",
       "        text-align: right;\n",
       "    }\n",
       "</style>\n",
       "<table border=\"1\" class=\"dataframe\">\n",
       "  <thead>\n",
       "    <tr style=\"text-align: right;\">\n",
       "      <th></th>\n",
       "      <th>columns</th>\n",
       "      <th>importances</th>\n",
       "    </tr>\n",
       "  </thead>\n",
       "  <tbody>\n",
       "    <tr>\n",
       "      <th>10</th>\n",
       "      <td>t2_towerKills</td>\n",
       "      <td>0.720592</td>\n",
       "    </tr>\n",
       "    <tr>\n",
       "      <th>6</th>\n",
       "      <td>t1_towerKills</td>\n",
       "      <td>0.231177</td>\n",
       "    </tr>\n",
       "    <tr>\n",
       "      <th>7</th>\n",
       "      <td>t1_inhibitorKills</td>\n",
       "      <td>0.016769</td>\n",
       "    </tr>\n",
       "    <tr>\n",
       "      <th>11</th>\n",
       "      <td>t2_inhibitorKills</td>\n",
       "      <td>0.014381</td>\n",
       "    </tr>\n",
       "    <tr>\n",
       "      <th>2</th>\n",
       "      <td>firstInhibitor</td>\n",
       "      <td>0.010415</td>\n",
       "    </tr>\n",
       "    <tr>\n",
       "      <th>1</th>\n",
       "      <td>firstTower</td>\n",
       "      <td>0.001764</td>\n",
       "    </tr>\n",
       "    <tr>\n",
       "      <th>8</th>\n",
       "      <td>t1_baronKills</td>\n",
       "      <td>0.001608</td>\n",
       "    </tr>\n",
       "    <tr>\n",
       "      <th>13</th>\n",
       "      <td>t2_dragonKills</td>\n",
       "      <td>0.000973</td>\n",
       "    </tr>\n",
       "    <tr>\n",
       "      <th>9</th>\n",
       "      <td>t1_dragonKills</td>\n",
       "      <td>0.000742</td>\n",
       "    </tr>\n",
       "    <tr>\n",
       "      <th>12</th>\n",
       "      <td>t2_baronKills</td>\n",
       "      <td>0.000640</td>\n",
       "    </tr>\n",
       "    <tr>\n",
       "      <th>3</th>\n",
       "      <td>firstBaron</td>\n",
       "      <td>0.000271</td>\n",
       "    </tr>\n",
       "    <tr>\n",
       "      <th>4</th>\n",
       "      <td>firstDragon</td>\n",
       "      <td>0.000264</td>\n",
       "    </tr>\n",
       "    <tr>\n",
       "      <th>0</th>\n",
       "      <td>firstBlood</td>\n",
       "      <td>0.000202</td>\n",
       "    </tr>\n",
       "    <tr>\n",
       "      <th>5</th>\n",
       "      <td>firstRiftHerald</td>\n",
       "      <td>0.000201</td>\n",
       "    </tr>\n",
       "  </tbody>\n",
       "</table>\n",
       "</div>"
      ],
      "text/plain": [
       "              columns  importances\n",
       "10      t2_towerKills     0.720592\n",
       "6       t1_towerKills     0.231177\n",
       "7   t1_inhibitorKills     0.016769\n",
       "11  t2_inhibitorKills     0.014381\n",
       "2      firstInhibitor     0.010415\n",
       "1          firstTower     0.001764\n",
       "8       t1_baronKills     0.001608\n",
       "13     t2_dragonKills     0.000973\n",
       "9      t1_dragonKills     0.000742\n",
       "12      t2_baronKills     0.000640\n",
       "3          firstBaron     0.000271\n",
       "4         firstDragon     0.000264\n",
       "0          firstBlood     0.000202\n",
       "5     firstRiftHerald     0.000201"
      ]
     },
     "execution_count": 219,
     "metadata": {},
     "output_type": "execute_result"
    }
   ],
   "source": [
    "# 输出属性重要性\n",
    "imp = pd.DataFrame(list(zip(X_train.columns, best_clf.feature_importances_))) \n",
    "imp.columns = ['columns', 'importances']\n",
    "imp = imp.sort_values('importances', ascending=False)\n",
    "imp"
   ]
  },
  {
   "cell_type": "markdown",
   "metadata": {},
   "source": [
    "在属性的重要性排序中，击杀防御塔数量的重要性最高，其次是水晶摧毁数量、一塔、击杀龙的数量。"
   ]
  },
  {
   "cell_type": "code",
   "execution_count": 203,
   "metadata": {},
   "outputs": [
    {
     "data": {
      "image/svg+xml": [
       "<?xml version=\"1.0\" encoding=\"UTF-8\" standalone=\"no\"?>\r\n",
       "<!DOCTYPE svg PUBLIC \"-//W3C//DTD SVG 1.1//EN\"\r\n",
       " \"http://www.w3.org/Graphics/SVG/1.1/DTD/svg11.dtd\">\r\n",
       "<!-- Generated by graphviz version 2.38.0 (20140413.2041)\r\n",
       " -->\r\n",
       "<!-- Title: Tree Pages: 1 -->\r\n",
       "<svg width=\"1322pt\" height=\"520pt\"\r\n",
       " viewBox=\"0.00 0.00 1322.00 520.00\" xmlns=\"http://www.w3.org/2000/svg\" xmlns:xlink=\"http://www.w3.org/1999/xlink\">\r\n",
       "<g id=\"graph0\" class=\"graph\" transform=\"scale(1 1) rotate(0) translate(4 516)\">\r\n",
       "<title>Tree</title>\r\n",
       "<polygon fill=\"white\" stroke=\"none\" points=\"-4,4 -4,-516 1318,-516 1318,4 -4,4\"/>\r\n",
       "<!-- 0 -->\r\n",
       "<g id=\"node1\" class=\"node\"><title>0</title>\r\n",
       "<path fill=\"#fefcfa\" stroke=\"black\" d=\"M698.5,-512C698.5,-512 559.5,-512 559.5,-512 553.5,-512 547.5,-506 547.5,-500 547.5,-500 547.5,-441 547.5,-441 547.5,-435 553.5,-429 559.5,-429 559.5,-429 698.5,-429 698.5,-429 704.5,-429 710.5,-435 710.5,-441 710.5,-441 710.5,-500 710.5,-500 710.5,-506 704.5,-512 698.5,-512\"/>\r\n",
       "<text text-anchor=\"middle\" x=\"629\" y=\"-496.8\" font-family=\"Helvetica,sans-Serif\" font-size=\"14.00\">t2_towerKills &lt;= 6.5</text>\r\n",
       "<text text-anchor=\"middle\" x=\"629\" y=\"-481.8\" font-family=\"Helvetica,sans-Serif\" font-size=\"14.00\">gini = 0.5</text>\r\n",
       "<text text-anchor=\"middle\" x=\"629\" y=\"-466.8\" font-family=\"Helvetica,sans-Serif\" font-size=\"14.00\">samples = 40144</text>\r\n",
       "<text text-anchor=\"middle\" x=\"629\" y=\"-451.8\" font-family=\"Helvetica,sans-Serif\" font-size=\"14.00\">value = [20309, 19835]</text>\r\n",
       "<text text-anchor=\"middle\" x=\"629\" y=\"-436.8\" font-family=\"Helvetica,sans-Serif\" font-size=\"14.00\">class = 1</text>\r\n",
       "</g>\r\n",
       "<!-- 1 -->\r\n",
       "<g id=\"node2\" class=\"node\"><title>1</title>\r\n",
       "<path fill=\"#e89253\" stroke=\"black\" d=\"M523.5,-393C523.5,-393 392.5,-393 392.5,-393 386.5,-393 380.5,-387 380.5,-381 380.5,-381 380.5,-322 380.5,-322 380.5,-316 386.5,-310 392.5,-310 392.5,-310 523.5,-310 523.5,-310 529.5,-310 535.5,-316 535.5,-322 535.5,-322 535.5,-381 535.5,-381 535.5,-387 529.5,-393 523.5,-393\"/>\r\n",
       "<text text-anchor=\"middle\" x=\"458\" y=\"-377.8\" font-family=\"Helvetica,sans-Serif\" font-size=\"14.00\">t1_towerKills &lt;= 2.5</text>\r\n",
       "<text text-anchor=\"middle\" x=\"458\" y=\"-362.8\" font-family=\"Helvetica,sans-Serif\" font-size=\"14.00\">gini = 0.206</text>\r\n",
       "<text text-anchor=\"middle\" x=\"458\" y=\"-347.8\" font-family=\"Helvetica,sans-Serif\" font-size=\"14.00\">samples = 21224</text>\r\n",
       "<text text-anchor=\"middle\" x=\"458\" y=\"-332.8\" font-family=\"Helvetica,sans-Serif\" font-size=\"14.00\">value = [18751, 2473]</text>\r\n",
       "<text text-anchor=\"middle\" x=\"458\" y=\"-317.8\" font-family=\"Helvetica,sans-Serif\" font-size=\"14.00\">class = 1</text>\r\n",
       "</g>\r\n",
       "<!-- 0&#45;&gt;1 -->\r\n",
       "<g id=\"edge1\" class=\"edge\"><title>0&#45;&gt;1</title>\r\n",
       "<path fill=\"none\" stroke=\"black\" d=\"M569.672,-428.907C555.48,-419.197 540.224,-408.758 525.686,-398.811\"/>\r\n",
       "<polygon fill=\"black\" stroke=\"black\" points=\"527.452,-395.779 517.223,-393.021 523.499,-401.556 527.452,-395.779\"/>\r\n",
       "<text text-anchor=\"middle\" x=\"521.83\" y=\"-413.893\" font-family=\"Helvetica,sans-Serif\" font-size=\"14.00\">True</text>\r\n",
       "</g>\r\n",
       "<!-- 120 -->\r\n",
       "<g id=\"node17\" class=\"node\"><title>120</title>\r\n",
       "<path fill=\"#4ba6e7\" stroke=\"black\" d=\"M866.5,-393C866.5,-393 735.5,-393 735.5,-393 729.5,-393 723.5,-387 723.5,-381 723.5,-381 723.5,-322 723.5,-322 723.5,-316 729.5,-310 735.5,-310 735.5,-310 866.5,-310 866.5,-310 872.5,-310 878.5,-316 878.5,-322 878.5,-322 878.5,-381 878.5,-381 878.5,-387 872.5,-393 866.5,-393\"/>\r\n",
       "<text text-anchor=\"middle\" x=\"801\" y=\"-377.8\" font-family=\"Helvetica,sans-Serif\" font-size=\"14.00\">t1_towerKills &lt;= 7.5</text>\r\n",
       "<text text-anchor=\"middle\" x=\"801\" y=\"-362.8\" font-family=\"Helvetica,sans-Serif\" font-size=\"14.00\">gini = 0.151</text>\r\n",
       "<text text-anchor=\"middle\" x=\"801\" y=\"-347.8\" font-family=\"Helvetica,sans-Serif\" font-size=\"14.00\">samples = 18920</text>\r\n",
       "<text text-anchor=\"middle\" x=\"801\" y=\"-332.8\" font-family=\"Helvetica,sans-Serif\" font-size=\"14.00\">value = [1558, 17362]</text>\r\n",
       "<text text-anchor=\"middle\" x=\"801\" y=\"-317.8\" font-family=\"Helvetica,sans-Serif\" font-size=\"14.00\">class = 2</text>\r\n",
       "</g>\r\n",
       "<!-- 0&#45;&gt;120 -->\r\n",
       "<g id=\"edge16\" class=\"edge\"><title>0&#45;&gt;120</title>\r\n",
       "<path fill=\"none\" stroke=\"black\" d=\"M688.675,-428.907C702.95,-419.197 718.296,-408.758 732.918,-398.811\"/>\r\n",
       "<polygon fill=\"black\" stroke=\"black\" points=\"735.131,-401.539 741.431,-393.021 731.194,-395.751 735.131,-401.539\"/>\r\n",
       "<text text-anchor=\"middle\" x=\"736.757\" y=\"-413.88\" font-family=\"Helvetica,sans-Serif\" font-size=\"14.00\">False</text>\r\n",
       "</g>\r\n",
       "<!-- 2 -->\r\n",
       "<g id=\"node3\" class=\"node\"><title>2</title>\r\n",
       "<path fill=\"#52a9e8\" stroke=\"black\" d=\"M272,-274C272,-274 154,-274 154,-274 148,-274 142,-268 142,-262 142,-262 142,-203 142,-203 142,-197 148,-191 154,-191 154,-191 272,-191 272,-191 278,-191 284,-197 284,-203 284,-203 284,-262 284,-262 284,-268 278,-274 272,-274\"/>\r\n",
       "<text text-anchor=\"middle\" x=\"213\" y=\"-258.8\" font-family=\"Helvetica,sans-Serif\" font-size=\"14.00\">t2_towerKills &lt;= 1.5</text>\r\n",
       "<text text-anchor=\"middle\" x=\"213\" y=\"-243.8\" font-family=\"Helvetica,sans-Serif\" font-size=\"14.00\">gini = 0.198</text>\r\n",
       "<text text-anchor=\"middle\" x=\"213\" y=\"-228.8\" font-family=\"Helvetica,sans-Serif\" font-size=\"14.00\">samples = 2097</text>\r\n",
       "<text text-anchor=\"middle\" x=\"213\" y=\"-213.8\" font-family=\"Helvetica,sans-Serif\" font-size=\"14.00\">value = [233, 1864]</text>\r\n",
       "<text text-anchor=\"middle\" x=\"213\" y=\"-198.8\" font-family=\"Helvetica,sans-Serif\" font-size=\"14.00\">class = 2</text>\r\n",
       "</g>\r\n",
       "<!-- 1&#45;&gt;2 -->\r\n",
       "<g id=\"edge2\" class=\"edge\"><title>1&#45;&gt;2</title>\r\n",
       "<path fill=\"none\" stroke=\"black\" d=\"M380.48,-313.48C352.771,-300.248 321.496,-285.312 293.538,-271.961\"/>\r\n",
       "<polygon fill=\"black\" stroke=\"black\" points=\"294.725,-268.649 284.193,-267.498 291.709,-274.966 294.725,-268.649\"/>\r\n",
       "</g>\r\n",
       "<!-- 61 -->\r\n",
       "<g id=\"node10\" class=\"node\"><title>61</title>\r\n",
       "<path fill=\"#e68540\" stroke=\"black\" d=\"M519,-274C519,-274 397,-274 397,-274 391,-274 385,-268 385,-262 385,-262 385,-203 385,-203 385,-197 391,-191 397,-191 397,-191 519,-191 519,-191 525,-191 531,-197 531,-203 531,-203 531,-262 531,-262 531,-268 525,-274 519,-274\"/>\r\n",
       "<text text-anchor=\"middle\" x=\"458\" y=\"-258.8\" font-family=\"Helvetica,sans-Serif\" font-size=\"14.00\">t1_towerKills &lt;= 4.5</text>\r\n",
       "<text text-anchor=\"middle\" x=\"458\" y=\"-243.8\" font-family=\"Helvetica,sans-Serif\" font-size=\"14.00\">gini = 0.062</text>\r\n",
       "<text text-anchor=\"middle\" x=\"458\" y=\"-228.8\" font-family=\"Helvetica,sans-Serif\" font-size=\"14.00\">samples = 19127</text>\r\n",
       "<text text-anchor=\"middle\" x=\"458\" y=\"-213.8\" font-family=\"Helvetica,sans-Serif\" font-size=\"14.00\">value = [18518, 609]</text>\r\n",
       "<text text-anchor=\"middle\" x=\"458\" y=\"-198.8\" font-family=\"Helvetica,sans-Serif\" font-size=\"14.00\">class = 1</text>\r\n",
       "</g>\r\n",
       "<!-- 1&#45;&gt;61 -->\r\n",
       "<g id=\"edge9\" class=\"edge\"><title>1&#45;&gt;61</title>\r\n",
       "<path fill=\"none\" stroke=\"black\" d=\"M458,-309.907C458,-301.649 458,-292.864 458,-284.302\"/>\r\n",
       "<polygon fill=\"black\" stroke=\"black\" points=\"461.5,-284.021 458,-274.021 454.5,-284.021 461.5,-284.021\"/>\r\n",
       "</g>\r\n",
       "<!-- 3 -->\r\n",
       "<g id=\"node4\" class=\"node\"><title>3</title>\r\n",
       "<path fill=\"#eb9f67\" stroke=\"black\" d=\"M112,-155C112,-155 12,-155 12,-155 6,-155 0,-149 0,-143 0,-143 0,-84 0,-84 0,-78 6,-72 12,-72 12,-72 112,-72 112,-72 118,-72 124,-78 124,-84 124,-84 124,-143 124,-143 124,-149 118,-155 112,-155\"/>\r\n",
       "<text text-anchor=\"middle\" x=\"62\" y=\"-139.8\" font-family=\"Helvetica,sans-Serif\" font-size=\"14.00\">firstTower &lt;= 1.5</text>\r\n",
       "<text text-anchor=\"middle\" x=\"62\" y=\"-124.8\" font-family=\"Helvetica,sans-Serif\" font-size=\"14.00\">gini = 0.307</text>\r\n",
       "<text text-anchor=\"middle\" x=\"62\" y=\"-109.8\" font-family=\"Helvetica,sans-Serif\" font-size=\"14.00\">samples = 253</text>\r\n",
       "<text text-anchor=\"middle\" x=\"62\" y=\"-94.8\" font-family=\"Helvetica,sans-Serif\" font-size=\"14.00\">value = [205, 48]</text>\r\n",
       "<text text-anchor=\"middle\" x=\"62\" y=\"-79.8\" font-family=\"Helvetica,sans-Serif\" font-size=\"14.00\">class = 1</text>\r\n",
       "</g>\r\n",
       "<!-- 2&#45;&gt;3 -->\r\n",
       "<g id=\"edge3\" class=\"edge\"><title>2&#45;&gt;3</title>\r\n",
       "<path fill=\"none\" stroke=\"black\" d=\"M160.611,-190.907C148.313,-181.379 135.11,-171.148 122.49,-161.37\"/>\r\n",
       "<polygon fill=\"black\" stroke=\"black\" points=\"124.345,-158.379 114.296,-155.021 120.057,-163.912 124.345,-158.379\"/>\r\n",
       "</g>\r\n",
       "<!-- 32 -->\r\n",
       "<g id=\"node7\" class=\"node\"><title>32</title>\r\n",
       "<path fill=\"#3c9fe5\" stroke=\"black\" d=\"M272,-155C272,-155 154,-155 154,-155 148,-155 142,-149 142,-143 142,-143 142,-84 142,-84 142,-78 148,-72 154,-72 154,-72 272,-72 272,-72 278,-72 284,-78 284,-84 284,-84 284,-143 284,-143 284,-149 278,-155 272,-155\"/>\r\n",
       "<text text-anchor=\"middle\" x=\"213\" y=\"-139.8\" font-family=\"Helvetica,sans-Serif\" font-size=\"14.00\">t2_towerKills &lt;= 2.5</text>\r\n",
       "<text text-anchor=\"middle\" x=\"213\" y=\"-124.8\" font-family=\"Helvetica,sans-Serif\" font-size=\"14.00\">gini = 0.03</text>\r\n",
       "<text text-anchor=\"middle\" x=\"213\" y=\"-109.8\" font-family=\"Helvetica,sans-Serif\" font-size=\"14.00\">samples = 1844</text>\r\n",
       "<text text-anchor=\"middle\" x=\"213\" y=\"-94.8\" font-family=\"Helvetica,sans-Serif\" font-size=\"14.00\">value = [28, 1816]</text>\r\n",
       "<text text-anchor=\"middle\" x=\"213\" y=\"-79.8\" font-family=\"Helvetica,sans-Serif\" font-size=\"14.00\">class = 2</text>\r\n",
       "</g>\r\n",
       "<!-- 2&#45;&gt;32 -->\r\n",
       "<g id=\"edge6\" class=\"edge\"><title>2&#45;&gt;32</title>\r\n",
       "<path fill=\"none\" stroke=\"black\" d=\"M213,-190.907C213,-182.649 213,-173.864 213,-165.302\"/>\r\n",
       "<polygon fill=\"black\" stroke=\"black\" points=\"216.5,-165.021 213,-155.021 209.5,-165.021 216.5,-165.021\"/>\r\n",
       "</g>\r\n",
       "<!-- 4 -->\r\n",
       "<g id=\"node5\" class=\"node\"><title>4</title>\r\n",
       "<path fill=\"#c0c0c0\" stroke=\"black\" d=\"M63,-36C63,-36 33,-36 33,-36 27,-36 21,-30 21,-24 21,-24 21,-12 21,-12 21,-6 27,-0 33,-0 33,-0 63,-0 63,-0 69,-0 75,-6 75,-12 75,-12 75,-24 75,-24 75,-30 69,-36 63,-36\"/>\r\n",
       "<text text-anchor=\"middle\" x=\"48\" y=\"-14.3\" font-family=\"Helvetica,sans-Serif\" font-size=\"14.00\">(...)</text>\r\n",
       "</g>\r\n",
       "<!-- 3&#45;&gt;4 -->\r\n",
       "<g id=\"edge4\" class=\"edge\"><title>3&#45;&gt;4</title>\r\n",
       "<path fill=\"none\" stroke=\"black\" d=\"M55.9001,-71.7615C54.6235,-63.2356 53.3063,-54.4385 52.1221,-46.5299\"/>\r\n",
       "<polygon fill=\"black\" stroke=\"black\" points=\"55.5484,-45.7765 50.6061,-36.4051 48.6256,-46.8132 55.5484,-45.7765\"/>\r\n",
       "</g>\r\n",
       "<!-- 19 -->\r\n",
       "<g id=\"node6\" class=\"node\"><title>19</title>\r\n",
       "<path fill=\"#c0c0c0\" stroke=\"black\" d=\"M135,-36C135,-36 105,-36 105,-36 99,-36 93,-30 93,-24 93,-24 93,-12 93,-12 93,-6 99,-0 105,-0 105,-0 135,-0 135,-0 141,-0 147,-6 147,-12 147,-12 147,-24 147,-24 147,-30 141,-36 135,-36\"/>\r\n",
       "<text text-anchor=\"middle\" x=\"120\" y=\"-14.3\" font-family=\"Helvetica,sans-Serif\" font-size=\"14.00\">(...)</text>\r\n",
       "</g>\r\n",
       "<!-- 3&#45;&gt;19 -->\r\n",
       "<g id=\"edge5\" class=\"edge\"><title>3&#45;&gt;19</title>\r\n",
       "<path fill=\"none\" stroke=\"black\" d=\"M87.2709,-71.7615C92.9203,-62.6543 98.7617,-53.2376 103.918,-44.925\"/>\r\n",
       "<polygon fill=\"black\" stroke=\"black\" points=\"106.906,-46.7479 109.203,-36.4051 100.958,-43.0579 106.906,-46.7479\"/>\r\n",
       "</g>\r\n",
       "<!-- 33 -->\r\n",
       "<g id=\"node8\" class=\"node\"><title>33</title>\r\n",
       "<path fill=\"#c0c0c0\" stroke=\"black\" d=\"M207,-36C207,-36 177,-36 177,-36 171,-36 165,-30 165,-24 165,-24 165,-12 165,-12 165,-6 171,-0 177,-0 177,-0 207,-0 207,-0 213,-0 219,-6 219,-12 219,-12 219,-24 219,-24 219,-30 213,-36 207,-36\"/>\r\n",
       "<text text-anchor=\"middle\" x=\"192\" y=\"-14.3\" font-family=\"Helvetica,sans-Serif\" font-size=\"14.00\">(...)</text>\r\n",
       "</g>\r\n",
       "<!-- 32&#45;&gt;33 -->\r\n",
       "<g id=\"edge7\" class=\"edge\"><title>32&#45;&gt;33</title>\r\n",
       "<path fill=\"none\" stroke=\"black\" d=\"M203.85,-71.7615C201.914,-63.1387 199.915,-54.2385 198.123,-46.2606\"/>\r\n",
       "<polygon fill=\"black\" stroke=\"black\" points=\"201.516,-45.395 195.909,-36.4051 194.686,-46.9291 201.516,-45.395\"/>\r\n",
       "</g>\r\n",
       "<!-- 48 -->\r\n",
       "<g id=\"node9\" class=\"node\"><title>48</title>\r\n",
       "<path fill=\"#c0c0c0\" stroke=\"black\" d=\"M279,-36C279,-36 249,-36 249,-36 243,-36 237,-30 237,-24 237,-24 237,-12 237,-12 237,-6 243,-0 249,-0 249,-0 279,-0 279,-0 285,-0 291,-6 291,-12 291,-12 291,-24 291,-24 291,-30 285,-36 279,-36\"/>\r\n",
       "<text text-anchor=\"middle\" x=\"264\" y=\"-14.3\" font-family=\"Helvetica,sans-Serif\" font-size=\"14.00\">(...)</text>\r\n",
       "</g>\r\n",
       "<!-- 32&#45;&gt;48 -->\r\n",
       "<g id=\"edge8\" class=\"edge\"><title>32&#45;&gt;48</title>\r\n",
       "<path fill=\"none\" stroke=\"black\" d=\"M235.221,-71.7615C240.136,-62.7512 245.216,-53.4379 249.714,-45.1906\"/>\r\n",
       "<polygon fill=\"black\" stroke=\"black\" points=\"252.79,-46.8601 254.506,-36.4051 246.645,-43.5081 252.79,-46.8601\"/>\r\n",
       "</g>\r\n",
       "<!-- 62 -->\r\n",
       "<g id=\"node11\" class=\"node\"><title>62</title>\r\n",
       "<path fill=\"#f0b78f\" stroke=\"black\" d=\"M432,-155C432,-155 314,-155 314,-155 308,-155 302,-149 302,-143 302,-143 302,-84 302,-84 302,-78 308,-72 314,-72 314,-72 432,-72 432,-72 438,-72 444,-78 444,-84 444,-84 444,-143 444,-143 444,-149 438,-155 432,-155\"/>\r\n",
       "<text text-anchor=\"middle\" x=\"373\" y=\"-139.8\" font-family=\"Helvetica,sans-Serif\" font-size=\"14.00\">t2_towerKills &lt;= 3.5</text>\r\n",
       "<text text-anchor=\"middle\" x=\"373\" y=\"-124.8\" font-family=\"Helvetica,sans-Serif\" font-size=\"14.00\">gini = 0.421</text>\r\n",
       "<text text-anchor=\"middle\" x=\"373\" y=\"-109.8\" font-family=\"Helvetica,sans-Serif\" font-size=\"14.00\">samples = 1143</text>\r\n",
       "<text text-anchor=\"middle\" x=\"373\" y=\"-94.8\" font-family=\"Helvetica,sans-Serif\" font-size=\"14.00\">value = [798, 345]</text>\r\n",
       "<text text-anchor=\"middle\" x=\"373\" y=\"-79.8\" font-family=\"Helvetica,sans-Serif\" font-size=\"14.00\">class = 1</text>\r\n",
       "</g>\r\n",
       "<!-- 61&#45;&gt;62 -->\r\n",
       "<g id=\"edge10\" class=\"edge\"><title>61&#45;&gt;62</title>\r\n",
       "<path fill=\"none\" stroke=\"black\" d=\"M428.51,-190.907C422.049,-182.014 415.143,-172.509 408.476,-163.331\"/>\r\n",
       "<polygon fill=\"black\" stroke=\"black\" points=\"411.147,-161.054 402.438,-155.021 405.484,-165.168 411.147,-161.054\"/>\r\n",
       "</g>\r\n",
       "<!-- 91 -->\r\n",
       "<g id=\"node14\" class=\"node\"><title>91</title>\r\n",
       "<path fill=\"#e5833c\" stroke=\"black\" d=\"M606,-155C606,-155 474,-155 474,-155 468,-155 462,-149 462,-143 462,-143 462,-84 462,-84 462,-78 468,-72 474,-72 474,-72 606,-72 606,-72 612,-72 618,-78 618,-84 618,-84 618,-143 618,-143 618,-149 612,-155 606,-155\"/>\r\n",
       "<text text-anchor=\"middle\" x=\"540\" y=\"-139.8\" font-family=\"Helvetica,sans-Serif\" font-size=\"14.00\">t2_inhibitorKills &lt;= 0.5</text>\r\n",
       "<text text-anchor=\"middle\" x=\"540\" y=\"-124.8\" font-family=\"Helvetica,sans-Serif\" font-size=\"14.00\">gini = 0.029</text>\r\n",
       "<text text-anchor=\"middle\" x=\"540\" y=\"-109.8\" font-family=\"Helvetica,sans-Serif\" font-size=\"14.00\">samples = 17984</text>\r\n",
       "<text text-anchor=\"middle\" x=\"540\" y=\"-94.8\" font-family=\"Helvetica,sans-Serif\" font-size=\"14.00\">value = [17720, 264]</text>\r\n",
       "<text text-anchor=\"middle\" x=\"540\" y=\"-79.8\" font-family=\"Helvetica,sans-Serif\" font-size=\"14.00\">class = 1</text>\r\n",
       "</g>\r\n",
       "<!-- 61&#45;&gt;91 -->\r\n",
       "<g id=\"edge13\" class=\"edge\"><title>61&#45;&gt;91</title>\r\n",
       "<path fill=\"none\" stroke=\"black\" d=\"M486.449,-190.907C492.683,-182.014 499.344,-172.509 505.777,-163.331\"/>\r\n",
       "<polygon fill=\"black\" stroke=\"black\" points=\"508.728,-165.219 511.601,-155.021 502.995,-161.201 508.728,-165.219\"/>\r\n",
       "</g>\r\n",
       "<!-- 63 -->\r\n",
       "<g id=\"node12\" class=\"node\"><title>63</title>\r\n",
       "<path fill=\"#c0c0c0\" stroke=\"black\" d=\"M352,-36C352,-36 322,-36 322,-36 316,-36 310,-30 310,-24 310,-24 310,-12 310,-12 310,-6 316,-0 322,-0 322,-0 352,-0 352,-0 358,-0 364,-6 364,-12 364,-12 364,-24 364,-24 364,-30 358,-36 352,-36\"/>\r\n",
       "<text text-anchor=\"middle\" x=\"337\" y=\"-14.3\" font-family=\"Helvetica,sans-Serif\" font-size=\"14.00\">(...)</text>\r\n",
       "</g>\r\n",
       "<!-- 62&#45;&gt;63 -->\r\n",
       "<g id=\"edge11\" class=\"edge\"><title>62&#45;&gt;63</title>\r\n",
       "<path fill=\"none\" stroke=\"black\" d=\"M357.315,-71.7615C353.957,-63.0419 350.491,-54.0385 347.393,-45.9921\"/>\r\n",
       "<polygon fill=\"black\" stroke=\"black\" points=\"350.561,-44.4797 343.701,-36.4051 344.028,-46.9949 350.561,-44.4797\"/>\r\n",
       "</g>\r\n",
       "<!-- 76 -->\r\n",
       "<g id=\"node13\" class=\"node\"><title>76</title>\r\n",
       "<path fill=\"#c0c0c0\" stroke=\"black\" d=\"M424,-36C424,-36 394,-36 394,-36 388,-36 382,-30 382,-24 382,-24 382,-12 382,-12 382,-6 388,-0 394,-0 394,-0 424,-0 424,-0 430,-0 436,-6 436,-12 436,-12 436,-24 436,-24 436,-30 430,-36 424,-36\"/>\r\n",
       "<text text-anchor=\"middle\" x=\"409\" y=\"-14.3\" font-family=\"Helvetica,sans-Serif\" font-size=\"14.00\">(...)</text>\r\n",
       "</g>\r\n",
       "<!-- 62&#45;&gt;76 -->\r\n",
       "<g id=\"edge12\" class=\"edge\"><title>62&#45;&gt;76</title>\r\n",
       "<path fill=\"none\" stroke=\"black\" d=\"M388.685,-71.7615C392.043,-63.0419 395.509,-54.0385 398.607,-45.9921\"/>\r\n",
       "<polygon fill=\"black\" stroke=\"black\" points=\"401.972,-46.9949 402.299,-36.4051 395.439,-44.4797 401.972,-46.9949\"/>\r\n",
       "</g>\r\n",
       "<!-- 92 -->\r\n",
       "<g id=\"node15\" class=\"node\"><title>92</title>\r\n",
       "<path fill=\"#c0c0c0\" stroke=\"black\" d=\"M498,-36C498,-36 468,-36 468,-36 462,-36 456,-30 456,-24 456,-24 456,-12 456,-12 456,-6 462,-0 468,-0 468,-0 498,-0 498,-0 504,-0 510,-6 510,-12 510,-12 510,-24 510,-24 510,-30 504,-36 498,-36\"/>\r\n",
       "<text text-anchor=\"middle\" x=\"483\" y=\"-14.3\" font-family=\"Helvetica,sans-Serif\" font-size=\"14.00\">(...)</text>\r\n",
       "</g>\r\n",
       "<!-- 91&#45;&gt;92 -->\r\n",
       "<g id=\"edge14\" class=\"edge\"><title>91&#45;&gt;92</title>\r\n",
       "<path fill=\"none\" stroke=\"black\" d=\"M515.165,-71.7615C509.672,-62.7512 503.994,-53.4379 498.966,-45.1906\"/>\r\n",
       "<polygon fill=\"black\" stroke=\"black\" points=\"501.804,-43.1217 493.611,-36.4051 495.827,-46.7654 501.804,-43.1217\"/>\r\n",
       "</g>\r\n",
       "<!-- 107 -->\r\n",
       "<g id=\"node16\" class=\"node\"><title>107</title>\r\n",
       "<path fill=\"#c0c0c0\" stroke=\"black\" d=\"M570,-36C570,-36 540,-36 540,-36 534,-36 528,-30 528,-24 528,-24 528,-12 528,-12 528,-6 534,-0 540,-0 540,-0 570,-0 570,-0 576,-0 582,-6 582,-12 582,-12 582,-24 582,-24 582,-30 576,-36 570,-36\"/>\r\n",
       "<text text-anchor=\"middle\" x=\"555\" y=\"-14.3\" font-family=\"Helvetica,sans-Serif\" font-size=\"14.00\">(...)</text>\r\n",
       "</g>\r\n",
       "<!-- 91&#45;&gt;107 -->\r\n",
       "<g id=\"edge15\" class=\"edge\"><title>91&#45;&gt;107</title>\r\n",
       "<path fill=\"none\" stroke=\"black\" d=\"M546.536,-71.7615C547.903,-63.2356 549.315,-54.4385 550.583,-46.5299\"/>\r\n",
       "<polygon fill=\"black\" stroke=\"black\" points=\"554.079,-46.8333 552.208,-36.4051 547.168,-45.7244 554.079,-46.8333\"/>\r\n",
       "</g>\r\n",
       "<!-- 121 -->\r\n",
       "<g id=\"node18\" class=\"node\"><title>121</title>\r\n",
       "<path fill=\"#3d9fe6\" stroke=\"black\" d=\"M862,-274C862,-274 740,-274 740,-274 734,-274 728,-268 728,-262 728,-262 728,-203 728,-203 728,-197 734,-191 740,-191 740,-191 862,-191 862,-191 868,-191 874,-197 874,-203 874,-203 874,-262 874,-262 874,-268 868,-274 862,-274\"/>\r\n",
       "<text text-anchor=\"middle\" x=\"801\" y=\"-258.8\" font-family=\"Helvetica,sans-Serif\" font-size=\"14.00\">t1_towerKills &lt;= 6.5</text>\r\n",
       "<text text-anchor=\"middle\" x=\"801\" y=\"-243.8\" font-family=\"Helvetica,sans-Serif\" font-size=\"14.00\">gini = 0.038</text>\r\n",
       "<text text-anchor=\"middle\" x=\"801\" y=\"-228.8\" font-family=\"Helvetica,sans-Serif\" font-size=\"14.00\">samples = 16852</text>\r\n",
       "<text text-anchor=\"middle\" x=\"801\" y=\"-213.8\" font-family=\"Helvetica,sans-Serif\" font-size=\"14.00\">value = [329, 16523]</text>\r\n",
       "<text text-anchor=\"middle\" x=\"801\" y=\"-198.8\" font-family=\"Helvetica,sans-Serif\" font-size=\"14.00\">class = 2</text>\r\n",
       "</g>\r\n",
       "<!-- 120&#45;&gt;121 -->\r\n",
       "<g id=\"edge17\" class=\"edge\"><title>120&#45;&gt;121</title>\r\n",
       "<path fill=\"none\" stroke=\"black\" d=\"M801,-309.907C801,-301.649 801,-292.864 801,-284.302\"/>\r\n",
       "<polygon fill=\"black\" stroke=\"black\" points=\"804.5,-284.021 801,-274.021 797.5,-284.021 804.5,-284.021\"/>\r\n",
       "</g>\r\n",
       "<!-- 176 -->\r\n",
       "<g id=\"node25\" class=\"node\"><title>176</title>\r\n",
       "<path fill=\"#f7d7c0\" stroke=\"black\" d=\"M1119,-274C1119,-274 1005,-274 1005,-274 999,-274 993,-268 993,-262 993,-262 993,-203 993,-203 993,-197 999,-191 1005,-191 1005,-191 1119,-191 1119,-191 1125,-191 1131,-197 1131,-203 1131,-203 1131,-262 1131,-262 1131,-268 1125,-274 1119,-274\"/>\r\n",
       "<text text-anchor=\"middle\" x=\"1062\" y=\"-258.8\" font-family=\"Helvetica,sans-Serif\" font-size=\"14.00\">firstInhibitor &lt;= 1.5</text>\r\n",
       "<text text-anchor=\"middle\" x=\"1062\" y=\"-243.8\" font-family=\"Helvetica,sans-Serif\" font-size=\"14.00\">gini = 0.482</text>\r\n",
       "<text text-anchor=\"middle\" x=\"1062\" y=\"-228.8\" font-family=\"Helvetica,sans-Serif\" font-size=\"14.00\">samples = 2068</text>\r\n",
       "<text text-anchor=\"middle\" x=\"1062\" y=\"-213.8\" font-family=\"Helvetica,sans-Serif\" font-size=\"14.00\">value = [1229, 839]</text>\r\n",
       "<text text-anchor=\"middle\" x=\"1062\" y=\"-198.8\" font-family=\"Helvetica,sans-Serif\" font-size=\"14.00\">class = 1</text>\r\n",
       "</g>\r\n",
       "<!-- 120&#45;&gt;176 -->\r\n",
       "<g id=\"edge24\" class=\"edge\"><title>120&#45;&gt;176</title>\r\n",
       "<path fill=\"none\" stroke=\"black\" d=\"M878.602,-315.713C911.704,-300.874 950.271,-283.585 983.474,-268.701\"/>\r\n",
       "<polygon fill=\"black\" stroke=\"black\" points=\"984.994,-271.856 992.687,-264.571 982.13,-265.468 984.994,-271.856\"/>\r\n",
       "</g>\r\n",
       "<!-- 122 -->\r\n",
       "<g id=\"node19\" class=\"node\"><title>122</title>\r\n",
       "<path fill=\"#3a9de5\" stroke=\"black\" d=\"M780,-155C780,-155 648,-155 648,-155 642,-155 636,-149 636,-143 636,-143 636,-84 636,-84 636,-78 642,-72 648,-72 648,-72 780,-72 780,-72 786,-72 792,-78 792,-84 792,-84 792,-143 792,-143 792,-149 786,-155 780,-155\"/>\r\n",
       "<text text-anchor=\"middle\" x=\"714\" y=\"-139.8\" font-family=\"Helvetica,sans-Serif\" font-size=\"14.00\">t1_inhibitorKills &lt;= 0.5</text>\r\n",
       "<text text-anchor=\"middle\" x=\"714\" y=\"-124.8\" font-family=\"Helvetica,sans-Serif\" font-size=\"14.00\">gini = 0.01</text>\r\n",
       "<text text-anchor=\"middle\" x=\"714\" y=\"-109.8\" font-family=\"Helvetica,sans-Serif\" font-size=\"14.00\">samples = 15831</text>\r\n",
       "<text text-anchor=\"middle\" x=\"714\" y=\"-94.8\" font-family=\"Helvetica,sans-Serif\" font-size=\"14.00\">value = [80, 15751]</text>\r\n",
       "<text text-anchor=\"middle\" x=\"714\" y=\"-79.8\" font-family=\"Helvetica,sans-Serif\" font-size=\"14.00\">class = 2</text>\r\n",
       "</g>\r\n",
       "<!-- 121&#45;&gt;122 -->\r\n",
       "<g id=\"edge18\" class=\"edge\"><title>121&#45;&gt;122</title>\r\n",
       "<path fill=\"none\" stroke=\"black\" d=\"M770.816,-190.907C764.135,-181.923 756.991,-172.315 750.101,-163.05\"/>\r\n",
       "<polygon fill=\"black\" stroke=\"black\" points=\"752.907,-160.957 744.131,-155.021 747.289,-165.134 752.907,-160.957\"/>\r\n",
       "</g>\r\n",
       "<!-- 153 -->\r\n",
       "<g id=\"node22\" class=\"node\"><title>153</title>\r\n",
       "<path fill=\"#79bded\" stroke=\"black\" d=\"M954,-155C954,-155 822,-155 822,-155 816,-155 810,-149 810,-143 810,-143 810,-84 810,-84 810,-78 816,-72 822,-72 822,-72 954,-72 954,-72 960,-72 966,-78 966,-84 966,-84 966,-143 966,-143 966,-149 960,-155 954,-155\"/>\r\n",
       "<text text-anchor=\"middle\" x=\"888\" y=\"-139.8\" font-family=\"Helvetica,sans-Serif\" font-size=\"14.00\">t2_inhibitorKills &lt;= 0.5</text>\r\n",
       "<text text-anchor=\"middle\" x=\"888\" y=\"-124.8\" font-family=\"Helvetica,sans-Serif\" font-size=\"14.00\">gini = 0.369</text>\r\n",
       "<text text-anchor=\"middle\" x=\"888\" y=\"-109.8\" font-family=\"Helvetica,sans-Serif\" font-size=\"14.00\">samples = 1021</text>\r\n",
       "<text text-anchor=\"middle\" x=\"888\" y=\"-94.8\" font-family=\"Helvetica,sans-Serif\" font-size=\"14.00\">value = [249, 772]</text>\r\n",
       "<text text-anchor=\"middle\" x=\"888\" y=\"-79.8\" font-family=\"Helvetica,sans-Serif\" font-size=\"14.00\">class = 2</text>\r\n",
       "</g>\r\n",
       "<!-- 121&#45;&gt;153 -->\r\n",
       "<g id=\"edge21\" class=\"edge\"><title>121&#45;&gt;153</title>\r\n",
       "<path fill=\"none\" stroke=\"black\" d=\"M831.184,-190.907C837.865,-181.923 845.009,-172.315 851.899,-163.05\"/>\r\n",
       "<polygon fill=\"black\" stroke=\"black\" points=\"854.711,-165.134 857.869,-155.021 849.093,-160.957 854.711,-165.134\"/>\r\n",
       "</g>\r\n",
       "<!-- 123 -->\r\n",
       "<g id=\"node20\" class=\"node\"><title>123</title>\r\n",
       "<path fill=\"#c0c0c0\" stroke=\"black\" d=\"M672,-36C672,-36 642,-36 642,-36 636,-36 630,-30 630,-24 630,-24 630,-12 630,-12 630,-6 636,-0 642,-0 642,-0 672,-0 672,-0 678,-0 684,-6 684,-12 684,-12 684,-24 684,-24 684,-30 678,-36 672,-36\"/>\r\n",
       "<text text-anchor=\"middle\" x=\"657\" y=\"-14.3\" font-family=\"Helvetica,sans-Serif\" font-size=\"14.00\">(...)</text>\r\n",
       "</g>\r\n",
       "<!-- 122&#45;&gt;123 -->\r\n",
       "<g id=\"edge19\" class=\"edge\"><title>122&#45;&gt;123</title>\r\n",
       "<path fill=\"none\" stroke=\"black\" d=\"M689.165,-71.7615C683.672,-62.7512 677.994,-53.4379 672.966,-45.1906\"/>\r\n",
       "<polygon fill=\"black\" stroke=\"black\" points=\"675.804,-43.1217 667.611,-36.4051 669.827,-46.7654 675.804,-43.1217\"/>\r\n",
       "</g>\r\n",
       "<!-- 138 -->\r\n",
       "<g id=\"node21\" class=\"node\"><title>138</title>\r\n",
       "<path fill=\"#c0c0c0\" stroke=\"black\" d=\"M744,-36C744,-36 714,-36 714,-36 708,-36 702,-30 702,-24 702,-24 702,-12 702,-12 702,-6 708,-0 714,-0 714,-0 744,-0 744,-0 750,-0 756,-6 756,-12 756,-12 756,-24 756,-24 756,-30 750,-36 744,-36\"/>\r\n",
       "<text text-anchor=\"middle\" x=\"729\" y=\"-14.3\" font-family=\"Helvetica,sans-Serif\" font-size=\"14.00\">(...)</text>\r\n",
       "</g>\r\n",
       "<!-- 122&#45;&gt;138 -->\r\n",
       "<g id=\"edge20\" class=\"edge\"><title>122&#45;&gt;138</title>\r\n",
       "<path fill=\"none\" stroke=\"black\" d=\"M720.536,-71.7615C721.903,-63.2356 723.315,-54.4385 724.583,-46.5299\"/>\r\n",
       "<polygon fill=\"black\" stroke=\"black\" points=\"728.079,-46.8333 726.208,-36.4051 721.168,-45.7244 728.079,-46.8333\"/>\r\n",
       "</g>\r\n",
       "<!-- 154 -->\r\n",
       "<g id=\"node23\" class=\"node\"><title>154</title>\r\n",
       "<path fill=\"#c0c0c0\" stroke=\"black\" d=\"M846,-36C846,-36 816,-36 816,-36 810,-36 804,-30 804,-24 804,-24 804,-12 804,-12 804,-6 810,-0 816,-0 816,-0 846,-0 846,-0 852,-0 858,-6 858,-12 858,-12 858,-24 858,-24 858,-30 852,-36 846,-36\"/>\r\n",
       "<text text-anchor=\"middle\" x=\"831\" y=\"-14.3\" font-family=\"Helvetica,sans-Serif\" font-size=\"14.00\">(...)</text>\r\n",
       "</g>\r\n",
       "<!-- 153&#45;&gt;154 -->\r\n",
       "<g id=\"edge22\" class=\"edge\"><title>153&#45;&gt;154</title>\r\n",
       "<path fill=\"none\" stroke=\"black\" d=\"M863.165,-71.7615C857.672,-62.7512 851.994,-53.4379 846.966,-45.1906\"/>\r\n",
       "<polygon fill=\"black\" stroke=\"black\" points=\"849.804,-43.1217 841.611,-36.4051 843.827,-46.7654 849.804,-43.1217\"/>\r\n",
       "</g>\r\n",
       "<!-- 161 -->\r\n",
       "<g id=\"node24\" class=\"node\"><title>161</title>\r\n",
       "<path fill=\"#c0c0c0\" stroke=\"black\" d=\"M918,-36C918,-36 888,-36 888,-36 882,-36 876,-30 876,-24 876,-24 876,-12 876,-12 876,-6 882,-0 888,-0 888,-0 918,-0 918,-0 924,-0 930,-6 930,-12 930,-12 930,-24 930,-24 930,-30 924,-36 918,-36\"/>\r\n",
       "<text text-anchor=\"middle\" x=\"903\" y=\"-14.3\" font-family=\"Helvetica,sans-Serif\" font-size=\"14.00\">(...)</text>\r\n",
       "</g>\r\n",
       "<!-- 153&#45;&gt;161 -->\r\n",
       "<g id=\"edge23\" class=\"edge\"><title>153&#45;&gt;161</title>\r\n",
       "<path fill=\"none\" stroke=\"black\" d=\"M894.536,-71.7615C895.903,-63.2356 897.315,-54.4385 898.583,-46.5299\"/>\r\n",
       "<polygon fill=\"black\" stroke=\"black\" points=\"902.079,-46.8333 900.208,-36.4051 895.168,-45.7244 902.079,-46.8333\"/>\r\n",
       "</g>\r\n",
       "<!-- 177 -->\r\n",
       "<g id=\"node26\" class=\"node\"><title>177</title>\r\n",
       "<path fill=\"#d5eaf9\" stroke=\"black\" d=\"M1128,-155C1128,-155 996,-155 996,-155 990,-155 984,-149 984,-143 984,-143 984,-84 984,-84 984,-78 990,-72 996,-72 996,-72 1128,-72 1128,-72 1134,-72 1140,-78 1140,-84 1140,-84 1140,-143 1140,-143 1140,-149 1134,-155 1128,-155\"/>\r\n",
       "<text text-anchor=\"middle\" x=\"1062\" y=\"-139.8\" font-family=\"Helvetica,sans-Serif\" font-size=\"14.00\">t2_inhibitorKills &lt;= 0.5</text>\r\n",
       "<text text-anchor=\"middle\" x=\"1062\" y=\"-124.8\" font-family=\"Helvetica,sans-Serif\" font-size=\"14.00\">gini = 0.493</text>\r\n",
       "<text text-anchor=\"middle\" x=\"1062\" y=\"-109.8\" font-family=\"Helvetica,sans-Serif\" font-size=\"14.00\">samples = 1095</text>\r\n",
       "<text text-anchor=\"middle\" x=\"1062\" y=\"-94.8\" font-family=\"Helvetica,sans-Serif\" font-size=\"14.00\">value = [482, 613]</text>\r\n",
       "<text text-anchor=\"middle\" x=\"1062\" y=\"-79.8\" font-family=\"Helvetica,sans-Serif\" font-size=\"14.00\">class = 2</text>\r\n",
       "</g>\r\n",
       "<!-- 176&#45;&gt;177 -->\r\n",
       "<g id=\"edge25\" class=\"edge\"><title>176&#45;&gt;177</title>\r\n",
       "<path fill=\"none\" stroke=\"black\" d=\"M1062,-190.907C1062,-182.649 1062,-173.864 1062,-165.302\"/>\r\n",
       "<polygon fill=\"black\" stroke=\"black\" points=\"1065.5,-165.021 1062,-155.021 1058.5,-165.021 1065.5,-165.021\"/>\r\n",
       "</g>\r\n",
       "<!-- 200 -->\r\n",
       "<g id=\"node29\" class=\"node\"><title>200</title>\r\n",
       "<path fill=\"#eda775\" stroke=\"black\" d=\"M1302,-155C1302,-155 1170,-155 1170,-155 1164,-155 1158,-149 1158,-143 1158,-143 1158,-84 1158,-84 1158,-78 1164,-72 1170,-72 1170,-72 1302,-72 1302,-72 1308,-72 1314,-78 1314,-84 1314,-84 1314,-143 1314,-143 1314,-149 1308,-155 1302,-155\"/>\r\n",
       "<text text-anchor=\"middle\" x=\"1236\" y=\"-139.8\" font-family=\"Helvetica,sans-Serif\" font-size=\"14.00\">t1_inhibitorKills &lt;= 0.5</text>\r\n",
       "<text text-anchor=\"middle\" x=\"1236\" y=\"-124.8\" font-family=\"Helvetica,sans-Serif\" font-size=\"14.00\">gini = 0.357</text>\r\n",
       "<text text-anchor=\"middle\" x=\"1236\" y=\"-109.8\" font-family=\"Helvetica,sans-Serif\" font-size=\"14.00\">samples = 973</text>\r\n",
       "<text text-anchor=\"middle\" x=\"1236\" y=\"-94.8\" font-family=\"Helvetica,sans-Serif\" font-size=\"14.00\">value = [747, 226]</text>\r\n",
       "<text text-anchor=\"middle\" x=\"1236\" y=\"-79.8\" font-family=\"Helvetica,sans-Serif\" font-size=\"14.00\">class = 1</text>\r\n",
       "</g>\r\n",
       "<!-- 176&#45;&gt;200 -->\r\n",
       "<g id=\"edge28\" class=\"edge\"><title>176&#45;&gt;200</title>\r\n",
       "<path fill=\"none\" stroke=\"black\" d=\"M1122.37,-190.907C1136.81,-181.197 1152.33,-170.758 1167.13,-160.811\"/>\r\n",
       "<polygon fill=\"black\" stroke=\"black\" points=\"1169.39,-163.505 1175.74,-155.021 1165.49,-157.696 1169.39,-163.505\"/>\r\n",
       "</g>\r\n",
       "<!-- 178 -->\r\n",
       "<g id=\"node27\" class=\"node\"><title>178</title>\r\n",
       "<path fill=\"#c0c0c0\" stroke=\"black\" d=\"M1038,-36C1038,-36 1008,-36 1008,-36 1002,-36 996,-30 996,-24 996,-24 996,-12 996,-12 996,-6 1002,-0 1008,-0 1008,-0 1038,-0 1038,-0 1044,-0 1050,-6 1050,-12 1050,-12 1050,-24 1050,-24 1050,-30 1044,-36 1038,-36\"/>\r\n",
       "<text text-anchor=\"middle\" x=\"1023\" y=\"-14.3\" font-family=\"Helvetica,sans-Serif\" font-size=\"14.00\">(...)</text>\r\n",
       "</g>\r\n",
       "<!-- 177&#45;&gt;178 -->\r\n",
       "<g id=\"edge26\" class=\"edge\"><title>177&#45;&gt;178</title>\r\n",
       "<path fill=\"none\" stroke=\"black\" d=\"M1045.01,-71.7615C1041.33,-62.945 1037.53,-53.8384 1034.15,-45.7242\"/>\r\n",
       "<polygon fill=\"black\" stroke=\"black\" points=\"1037.34,-44.287 1030.26,-36.4051 1030.88,-46.9818 1037.34,-44.287\"/>\r\n",
       "</g>\r\n",
       "<!-- 185 -->\r\n",
       "<g id=\"node28\" class=\"node\"><title>185</title>\r\n",
       "<path fill=\"#c0c0c0\" stroke=\"black\" d=\"M1110,-36C1110,-36 1080,-36 1080,-36 1074,-36 1068,-30 1068,-24 1068,-24 1068,-12 1068,-12 1068,-6 1074,-0 1080,-0 1080,-0 1110,-0 1110,-0 1116,-0 1122,-6 1122,-12 1122,-12 1122,-24 1122,-24 1122,-30 1116,-36 1110,-36\"/>\r\n",
       "<text text-anchor=\"middle\" x=\"1095\" y=\"-14.3\" font-family=\"Helvetica,sans-Serif\" font-size=\"14.00\">(...)</text>\r\n",
       "</g>\r\n",
       "<!-- 177&#45;&gt;185 -->\r\n",
       "<g id=\"edge27\" class=\"edge\"><title>177&#45;&gt;185</title>\r\n",
       "<path fill=\"none\" stroke=\"black\" d=\"M1076.38,-71.7615C1079.46,-63.0419 1082.63,-54.0385 1085.47,-45.9921\"/>\r\n",
       "<polygon fill=\"black\" stroke=\"black\" points=\"1088.83,-46.9999 1088.86,-36.4051 1082.23,-44.6701 1088.83,-46.9999\"/>\r\n",
       "</g>\r\n",
       "<!-- 201 -->\r\n",
       "<g id=\"node30\" class=\"node\"><title>201</title>\r\n",
       "<path fill=\"#c0c0c0\" stroke=\"black\" d=\"M1215,-36C1215,-36 1185,-36 1185,-36 1179,-36 1173,-30 1173,-24 1173,-24 1173,-12 1173,-12 1173,-6 1179,-0 1185,-0 1185,-0 1215,-0 1215,-0 1221,-0 1227,-6 1227,-12 1227,-12 1227,-24 1227,-24 1227,-30 1221,-36 1215,-36\"/>\r\n",
       "<text text-anchor=\"middle\" x=\"1200\" y=\"-14.3\" font-family=\"Helvetica,sans-Serif\" font-size=\"14.00\">(...)</text>\r\n",
       "</g>\r\n",
       "<!-- 200&#45;&gt;201 -->\r\n",
       "<g id=\"edge29\" class=\"edge\"><title>200&#45;&gt;201</title>\r\n",
       "<path fill=\"none\" stroke=\"black\" d=\"M1220.31,-71.7615C1216.96,-63.0419 1213.49,-54.0385 1210.39,-45.9921\"/>\r\n",
       "<polygon fill=\"black\" stroke=\"black\" points=\"1213.56,-44.4797 1206.7,-36.4051 1207.03,-46.9949 1213.56,-44.4797\"/>\r\n",
       "</g>\r\n",
       "<!-- 208 -->\r\n",
       "<g id=\"node31\" class=\"node\"><title>208</title>\r\n",
       "<path fill=\"#c0c0c0\" stroke=\"black\" d=\"M1287,-36C1287,-36 1257,-36 1257,-36 1251,-36 1245,-30 1245,-24 1245,-24 1245,-12 1245,-12 1245,-6 1251,-0 1257,-0 1257,-0 1287,-0 1287,-0 1293,-0 1299,-6 1299,-12 1299,-12 1299,-24 1299,-24 1299,-30 1293,-36 1287,-36\"/>\r\n",
       "<text text-anchor=\"middle\" x=\"1272\" y=\"-14.3\" font-family=\"Helvetica,sans-Serif\" font-size=\"14.00\">(...)</text>\r\n",
       "</g>\r\n",
       "<!-- 200&#45;&gt;208 -->\r\n",
       "<g id=\"edge30\" class=\"edge\"><title>200&#45;&gt;208</title>\r\n",
       "<path fill=\"none\" stroke=\"black\" d=\"M1251.69,-71.7615C1255.04,-63.0419 1258.51,-54.0385 1261.61,-45.9921\"/>\r\n",
       "<polygon fill=\"black\" stroke=\"black\" points=\"1264.97,-46.9949 1265.3,-36.4051 1258.44,-44.4797 1264.97,-46.9949\"/>\r\n",
       "</g>\r\n",
       "</g>\r\n",
       "</svg>\r\n"
      ],
      "text/plain": [
       "<graphviz.files.Source at 0x2aa079d0908>"
      ]
     },
     "execution_count": 203,
     "metadata": {},
     "output_type": "execute_result"
    }
   ],
   "source": [
    "# 可视化\n",
    "import graphviz\n",
    "from sklearn import tree \n",
    "\n",
    "dot_data = tree.export_graphviz(decision_tree=best_clf, max_depth=3,\n",
    "                                 out_file=None, \n",
    "                                 feature_names=X_train.columns,\n",
    "                                 class_names=['1', '2'], \n",
    "                                 filled=True,\n",
    "                                 rounded=True\n",
    "                                )\n",
    "graph = graphviz.Source(dot_data)\n",
    "graph"
   ]
  },
  {
   "cell_type": "markdown",
   "metadata": {},
   "source": [
    "## 模型预测"
   ]
  },
  {
   "cell_type": "markdown",
   "metadata": {},
   "source": [
    "我们假设:\n",
    "\n",
    "第一队拿了第一血，第一塔，第一男爵，第一条大龙和第一峡谷先锋，而第二队只拿了第一个水晶。\n",
    "\n",
    "第一队的塔，水晶，男爵和龙杀死的数量分别是10,2,1,4和塔，水晶，男爵和龙的数量分别是7,2,1,1。"
   ]
  },
  {
   "cell_type": "code",
   "execution_count": 217,
   "metadata": {},
   "outputs": [
    {
     "name": "stdout",
     "output_type": "stream",
     "text": [
      "winner is : [1]\n",
      "First team win probability is %  [89.87341772151899] \n",
      "Second team win probability is %: [10.126582278481013]\n"
     ]
    }
   ],
   "source": [
    "# 新数据\n",
    "new_data = [[1, 1, 2, 1, 1, 1, 10, 2, 1, 4, 7, 2, 1, 1]]\n",
    "c = best_clf.predict_proba(new_data).reshape(-1, 1) \n",
    "print(\"winner is :\" , best_clf.predict(x1)) \n",
    "print(\"First team win probability is % \", list(c[0] * 100),\n",
    "      \"\\nSecond team win probability is %:\",list(c[1] * 100)) "
   ]
  },
  {
   "cell_type": "markdown",
   "metadata": {},
   "source": [
    "根据模型预测结果，第一队将会获胜，获胜的概率为89.87%。"
   ]
  }
 ],
 "metadata": {
  "kernelspec": {
   "display_name": "Python 3",
   "language": "python",
   "name": "python3"
  },
  "language_info": {
   "codemirror_mode": {
    "name": "ipython",
    "version": 3
   },
   "file_extension": ".py",
   "mimetype": "text/x-python",
   "name": "python",
   "nbconvert_exporter": "python",
   "pygments_lexer": "ipython3",
   "version": "3.7.3"
  },
  "toc": {
   "base_numbering": 1,
   "nav_menu": {},
   "number_sections": true,
   "sideBar": true,
   "skip_h1_title": false,
   "title_cell": "Table of Contents",
   "title_sidebar": "Contents",
   "toc_cell": false,
   "toc_position": {},
   "toc_section_display": true,
   "toc_window_display": false
  },
  "varInspector": {
   "cols": {
    "lenName": 16,
    "lenType": 16,
    "lenVar": 40
   },
   "kernels_config": {
    "python": {
     "delete_cmd_postfix": "",
     "delete_cmd_prefix": "del ",
     "library": "var_list.py",
     "varRefreshCmd": "print(var_dic_list())"
    },
    "r": {
     "delete_cmd_postfix": ") ",
     "delete_cmd_prefix": "rm(",
     "library": "var_list.r",
     "varRefreshCmd": "cat(var_dic_list()) "
    }
   },
   "types_to_exclude": [
    "module",
    "function",
    "builtin_function_or_method",
    "instance",
    "_Feature"
   ],
   "window_display": false
  }
 },
 "nbformat": 4,
 "nbformat_minor": 2
}
